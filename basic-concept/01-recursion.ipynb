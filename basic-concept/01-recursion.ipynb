{
 "cells": [
  {
   "cell_type": "markdown",
   "id": "2272c551",
   "metadata": {},
   "source": [
    "# Recusive Function"
   ]
  },
  {
   "cell_type": "markdown",
   "id": "299919b1",
   "metadata": {},
   "source": [
    "<div class=\"alert alert-block alert-warning\">\n",
    "<strong><font color=\"blue\" size=\"3rem\">연습1: 1부터 100까지의 합</font></strong><br>\n",
    "</div>"
   ]
  },
  {
   "cell_type": "code",
   "execution_count": 13,
   "id": "71d3d8a0",
   "metadata": {},
   "outputs": [
    {
     "name": "stdout",
     "output_type": "stream",
     "text": [
      "CPU times: user 5 µs, sys: 0 ns, total: 5 µs\n",
      "Wall time: 9.06 µs\n"
     ]
    }
   ],
   "source": [
    "%%time\n",
    "\n",
    "# 반복문\n",
    "def a(num):\n",
    "    result = 0\n",
    "    for i in range(1, num + 1):\n",
    "        result += i\n",
    "    return result"
   ]
  },
  {
   "cell_type": "code",
   "execution_count": 14,
   "id": "d4b684f2",
   "metadata": {},
   "outputs": [
    {
     "name": "stdout",
     "output_type": "stream",
     "text": [
      "CPU times: user 4 µs, sys: 1 µs, total: 5 µs\n",
      "Wall time: 9.06 µs\n"
     ]
    }
   ],
   "source": [
    "%%time\n",
    "\n",
    "# 재귀함수\n",
    "def a_rf(num):\n",
    "    if (num <= 1):\n",
    "        return 1\n",
    "    return num + rf(num-1)"
   ]
  },
  {
   "cell_type": "code",
   "execution_count": 15,
   "id": "aa7f3227",
   "metadata": {},
   "outputs": [
    {
     "name": "stdout",
     "output_type": "stream",
     "text": [
      "5050\n",
      "5050\n"
     ]
    }
   ],
   "source": [
    "print(a(100))\n",
    "print(a_rf(100))"
   ]
  },
  {
   "cell_type": "markdown",
   "id": "f91285e5",
   "metadata": {},
   "source": [
    "<div class=\"alert alert-block alert-warning\">\n",
    "<strong><font color=\"blue\" size=\"3rem\">연습2: 1부터 6까지의 곱</font></strong><br>\n",
    "</div>"
   ]
  },
  {
   "cell_type": "code",
   "execution_count": 1,
   "id": "dda8da6c",
   "metadata": {},
   "outputs": [],
   "source": [
    "def m_lf(num):\n",
    "    result = 1\n",
    "    for i in range(1, num+1):\n",
    "        result *= i\n",
    "    return result"
   ]
  },
  {
   "cell_type": "code",
   "execution_count": 3,
   "id": "4f4b5964",
   "metadata": {},
   "outputs": [],
   "source": [
    "def m_rf(num):\n",
    "    if num <= 1:\n",
    "        return 1\n",
    "    return num * m_rf(num-1)"
   ]
  },
  {
   "cell_type": "code",
   "execution_count": 6,
   "id": "f1b0ed89",
   "metadata": {},
   "outputs": [
    {
     "name": "stdout",
     "output_type": "stream",
     "text": [
      "720\n",
      "720\n"
     ]
    }
   ],
   "source": [
    "print(m_lf(6))\n",
    "print(m_rf(6))"
   ]
  },
  {
   "cell_type": "markdown",
   "id": "1dc1e5c1",
   "metadata": {},
   "source": [
    "<div class=\"alert alert-block alert-warning\">\n",
    "<strong><font color=\"blue\" size=\"3rem\">시그마 공식을 활용해 O(1) 만드는 방법</font></strong><br>\n",
    "</div>"
   ]
  },
  {
   "cell_type": "code",
   "execution_count": 16,
   "id": "a3163c84",
   "metadata": {},
   "outputs": [
    {
     "name": "stdout",
     "output_type": "stream",
     "text": [
      "500000500000\n",
      "CPU times: user 108 ms, sys: 2.04 ms, total: 110 ms\n",
      "Wall time: 109 ms\n"
     ]
    }
   ],
   "source": [
    "%%time\n",
    "\n",
    "x = 0\n",
    "n = 1000000\n",
    "\n",
    "for i in range(1, n + 1):\n",
    "    x += i\n",
    "\n",
    "# O(n)\n",
    "print(x)"
   ]
  },
  {
   "cell_type": "code",
   "execution_count": 17,
   "id": "3fd82013",
   "metadata": {},
   "outputs": [
    {
     "name": "stdout",
     "output_type": "stream",
     "text": [
      "500000500000\n",
      "CPU times: user 71 µs, sys: 12 µs, total: 83 µs\n",
      "Wall time: 80.1 µs\n"
     ]
    }
   ],
   "source": [
    "%%time\n",
    "\n",
    "# 시그마 공식을 활용해 빅오의 1을 만듦\n",
    "x = 0\n",
    "n = 1000000\n",
    "x = n*(n + 1)//2\n",
    "\n",
    "# O(1)\n",
    "print(x)"
   ]
  }
 ],
 "metadata": {
  "kernelspec": {
   "display_name": "Python 3 (ipykernel)",
   "language": "python",
   "name": "python3"
  },
  "language_info": {
   "codemirror_mode": {
    "name": "ipython",
    "version": 3
   },
   "file_extension": ".py",
   "mimetype": "text/x-python",
   "name": "python",
   "nbconvert_exporter": "python",
   "pygments_lexer": "ipython3",
   "version": "3.8.2"
  }
 },
 "nbformat": 4,
 "nbformat_minor": 5
}
