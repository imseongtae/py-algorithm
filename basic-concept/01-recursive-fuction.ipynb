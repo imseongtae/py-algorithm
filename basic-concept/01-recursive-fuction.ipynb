{
 "cells": [
  {
   "cell_type": "markdown",
   "id": "2272c551",
   "metadata": {},
   "source": [
    "# Recusive Function"
   ]
  },
  {
   "cell_type": "markdown",
   "id": "299919b1",
   "metadata": {},
   "source": [
    "## 1부터 100까지의 합"
   ]
  },
  {
   "cell_type": "code",
   "execution_count": 44,
   "id": "a3163c84",
   "metadata": {},
   "outputs": [
    {
     "name": "stdout",
     "output_type": "stream",
     "text": [
      "500000500000\n",
      "CPU times: user 106 ms, sys: 2.42 ms, total: 109 ms\n",
      "Wall time: 107 ms\n"
     ]
    }
   ],
   "source": [
    "%%time\n",
    "\n",
    "x = 0\n",
    "n = 1000000\n",
    "\n",
    "for i in range(1, n + 1):\n",
    "    x += i\n",
    "\n",
    "# O(n)\n",
    "print(x)"
   ]
  },
  {
   "cell_type": "code",
   "execution_count": 43,
   "id": "3fd82013",
   "metadata": {},
   "outputs": [
    {
     "name": "stdout",
     "output_type": "stream",
     "text": [
      "500000500000\n",
      "CPU times: user 73 µs, sys: 16 µs, total: 89 µs\n",
      "Wall time: 81.1 µs\n"
     ]
    }
   ],
   "source": [
    "%%time\n",
    "\n",
    "# 시그마 공식을 활용해 빅오의 1을 만듦\n",
    "x = 0\n",
    "n = 1000000\n",
    "x = n*(n + 1)//2\n",
    "\n",
    "# O(1)\n",
    "print(x)"
   ]
  },
  {
   "cell_type": "code",
   "execution_count": 64,
   "id": "71d3d8a0",
   "metadata": {},
   "outputs": [
    {
     "name": "stdout",
     "output_type": "stream",
     "text": [
      "5050\n",
      "CPU times: user 69 µs, sys: 13 µs, total: 82 µs\n",
      "Wall time: 102 µs\n"
     ]
    }
   ],
   "source": [
    "%%time\n",
    "\n",
    "# 반복문\n",
    "def a(num):\n",
    "    result = 0\n",
    "    for i in range(1, num + 1):\n",
    "        result += i\n",
    "    return result\n",
    "\n",
    "print(a(100))"
   ]
  },
  {
   "cell_type": "code",
   "execution_count": 52,
   "id": "d4b684f2",
   "metadata": {},
   "outputs": [
    {
     "name": "stdout",
     "output_type": "stream",
     "text": [
      "5050\n",
      "CPU times: user 353 µs, sys: 118 µs, total: 471 µs\n",
      "Wall time: 467 µs\n"
     ]
    }
   ],
   "source": [
    "%%time\n",
    "\n",
    "# 재귀함수\n",
    "def rf(num):\n",
    "    if (num <= 1):\n",
    "        return 1\n",
    "    return num + rf(num-1)\n",
    "\n",
    "print(rf(100))"
   ]
  },
  {
   "cell_type": "markdown",
   "id": "f91285e5",
   "metadata": {},
   "source": [
    "## 1부터 100까지의 곱"
   ]
  },
  {
   "cell_type": "code",
   "execution_count": 65,
   "id": "dda8da6c",
   "metadata": {},
   "outputs": [
    {
     "name": "stdout",
     "output_type": "stream",
     "text": [
      "120\n"
     ]
    }
   ],
   "source": [
    "def m(num):\n",
    "    result = 1\n",
    "    for i in range(1, num+1):\n",
    "        result *= i\n",
    "    return result\n",
    "\n",
    "print(m(5));"
   ]
  },
  {
   "cell_type": "code",
   "execution_count": 68,
   "id": "4f4b5964",
   "metadata": {},
   "outputs": [
    {
     "name": "stdout",
     "output_type": "stream",
     "text": [
      "120\n"
     ]
    }
   ],
   "source": [
    "def m(num):\n",
    "    if num <= 1:\n",
    "        return 1\n",
    "    return num * m(num-1)\n",
    "\n",
    "print(m(5))"
   ]
  }
 ],
 "metadata": {
  "kernelspec": {
   "display_name": "Python 3 (ipykernel)",
   "language": "python",
   "name": "python3"
  },
  "language_info": {
   "codemirror_mode": {
    "name": "ipython",
    "version": 3
   },
   "file_extension": ".py",
   "mimetype": "text/x-python",
   "name": "python",
   "nbconvert_exporter": "python",
   "pygments_lexer": "ipython3",
   "version": "3.8.2"
  }
 },
 "nbformat": 4,
 "nbformat_minor": 5
}
