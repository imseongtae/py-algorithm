{
 "cells": [
  {
   "cell_type": "markdown",
   "id": "0cd3c305",
   "metadata": {},
   "source": [
    "## 문제 접근 방법\n",
    "\n",
    "1. 반복문의 경우는 **Bottom-up** (작은 문제에서 출발)\n",
    "2. 재귀의 경우는 **Top-down** (큰 문제에서 출발) ***재귀의 경우 꼭 종료조건이 있어야 함**"
   ]
  },
  {
   "cell_type": "code",
   "execution_count": 137,
   "id": "23cc8c55",
   "metadata": {},
   "outputs": [],
   "source": [
    "num = 10\n",
    "\n",
    "print(bin(num))\n",
    "print(hex(num))\n",
    "print(oct(num))"
   ]
  },
  {
   "cell_type": "code",
   "execution_count": 21,
   "id": "e58e7694",
   "metadata": {},
   "outputs": [
    {
     "name": "stdout",
     "output_type": "stream",
     "text": [
      "hamburger\n",
      "regrubmah\n",
      "[0, 1, 2]\n",
      "[2, 1, 0]\n"
     ]
    }
   ],
   "source": [
    "s = 'hamburger'\n",
    "print(s)\n",
    "print(s[::-1])\n",
    "\n",
    "print([0,1,2])\n",
    "print([0,1,2][::-1])"
   ]
  },
  {
   "cell_type": "markdown",
   "id": "9e7ec11c",
   "metadata": {},
   "source": [
    "<div class=\"alert alert-block alert-warning\">\n",
    "<h3>연습1: 2진수 구하기</h3>\n",
    "</div>"
   ]
  },
  {
   "cell_type": "code",
   "execution_count": 17,
   "id": "50f5bc41",
   "metadata": {},
   "outputs": [],
   "source": [
    "def bin_l(num):\n",
    "    result = ''\n",
    "    while(num > 1):\n",
    "        if num % 2 == 1:\n",
    "            result = str(1) + result\n",
    "        if num % 2 == 0:\n",
    "            result = str(0) + result\n",
    "        num = num // 2\n",
    "        if num == 0 or num == 1:\n",
    "            result = str(num) + result\n",
    "            break\n",
    "    return result"
   ]
  },
  {
   "cell_type": "code",
   "execution_count": 18,
   "id": "5475de3c",
   "metadata": {},
   "outputs": [],
   "source": [
    "def bin_r(num):\n",
    "    if num == 0 or num == 1:\n",
    "        return num\n",
    "    temp = num % 2\n",
    "    return str(bin_r(num//2)) + str(temp)"
   ]
  },
  {
   "cell_type": "code",
   "execution_count": 19,
   "id": "70b67bc3",
   "metadata": {},
   "outputs": [
    {
     "name": "stdout",
     "output_type": "stream",
     "text": [
      "1101\n",
      "1101\n"
     ]
    }
   ],
   "source": [
    "print(bin_l(13))\n",
    "print(bin_r(13))"
   ]
  },
  {
   "cell_type": "markdown",
   "id": "b2c75890",
   "metadata": {},
   "source": [
    "<div class=\"alert alert-block alert-warning\">\n",
    "<h3>연습2: 문자열 뒤집기</h3>\n",
    "</div>"
   ]
  },
  {
   "cell_type": "code",
   "execution_count": 4,
   "id": "a4be47ae",
   "metadata": {},
   "outputs": [],
   "source": [
    "def reverse_lf(s):\n",
    "    result = '';\n",
    "    for char in s:\n",
    "        result = char + result\n",
    "    return result"
   ]
  },
  {
   "cell_type": "code",
   "execution_count": 8,
   "id": "c0e6a266",
   "metadata": {},
   "outputs": [],
   "source": [
    "def reverse_rf(s):\n",
    "    if len(s) <= 1:\n",
    "        return s\n",
    "    return s[len(s)-1] + reverse_rf(s[0:-1])"
   ]
  },
  {
   "cell_type": "code",
   "execution_count": 9,
   "id": "db4895b6",
   "metadata": {},
   "outputs": [
    {
     "name": "stdout",
     "output_type": "stream",
     "text": [
      "regrubmah\n",
      "regrubmah\n",
      "regrubmah\n"
     ]
    }
   ],
   "source": [
    "burger = 'hamburger'\n",
    "\n",
    "print(burger[::-1])\n",
    "print(reverse_lf(burger))\n",
    "print(reverse_rf(burger))"
   ]
  },
  {
   "cell_type": "markdown",
   "id": "d9cc24fc",
   "metadata": {},
   "source": [
    "<div class=\"alert alert-block alert-warning\">\n",
    "<h3>연습3: 각 자릿수의 합</h3>\n",
    "</div>"
   ]
  },
  {
   "cell_type": "code",
   "execution_count": 30,
   "id": "b826f9a0",
   "metadata": {},
   "outputs": [],
   "source": [
    "def sum_lf(num):\n",
    "    result = 0\n",
    "    for i in num:\n",
    "        result += int(i)        \n",
    "    return result"
   ]
  },
  {
   "cell_type": "code",
   "execution_count": 31,
   "id": "cbef2b11",
   "metadata": {},
   "outputs": [],
   "source": [
    "def sum_rf(num):\n",
    "    if len(num) <= 1:\n",
    "        return num\n",
    "#     return int(num[len(num)-1]) + int(sum_rf(num[0:-1]))\n",
    "    return int(num[0]) + int(sum_rf(num[1:]))"
   ]
  },
  {
   "cell_type": "code",
   "execution_count": 32,
   "id": "646218e9",
   "metadata": {},
   "outputs": [
    {
     "name": "stdout",
     "output_type": "stream",
     "text": [
      "36\n",
      "36\n"
     ]
    }
   ],
   "source": [
    "s = '9999'\n",
    "\n",
    "print(sum_lf(s))\n",
    "print(sum_rf(s))"
   ]
  },
  {
   "cell_type": "markdown",
   "id": "c569034b",
   "metadata": {},
   "source": [
    "### 연습4: 피보나치\n",
    "\n",
    "0 1 1 2 3 5 8 13 21"
   ]
  },
  {
   "cell_type": "markdown",
   "id": "4d4d1b4f",
   "metadata": {},
   "source": [
    "**일반항: f(n) = f(n-1) + f(n-2)**\n",
    "\n",
    "f(5) = f(4) + f(3)\n",
    "f(5) = f(f(3) + f(2)) + f(f(2) + f(1))\n",
    "f(5) = f(f(f(2) + f(1)) + f(f(1) + f(0))) + f(f(f(1) + f(0)) + f(1))\n",
    "f(5) = f(f(f(f(1) + f(0)) + f(1)) + f(f(1) + f(0))) + f(f(f(1) + f(0)) + f(1))\n",
    "\n",
    "***f(1), f(0)의 값은 1**"
   ]
  },
  {
   "cell_type": "code",
   "execution_count": 39,
   "id": "f30cd1fe",
   "metadata": {},
   "outputs": [],
   "source": [
    "def fibonacci(num):\n",
    "    if num <= 1:\n",
    "        return 1\n",
    "    return fibonacci(num-1) + fibonacci(num-2)"
   ]
  },
  {
   "cell_type": "code",
   "execution_count": 90,
   "id": "2decda49",
   "metadata": {},
   "outputs": [],
   "source": [
    "def fibonacci_l(num):\n",
    "    result = []\n",
    "    prev_index = 0\n",
    "    index = 1\n",
    "    for i in range(0, num + 1):\n",
    "        if i <= 1:\n",
    "            result.append(1)\n",
    "        else:\n",
    "            temp = result[prev_index] + result[index]\n",
    "            result.append(temp)\n",
    "            prev_index += 1\n",
    "            index += 1\n",
    "    return result[num]"
   ]
  },
  {
   "cell_type": "code",
   "execution_count": 93,
   "id": "30c958ed",
   "metadata": {},
   "outputs": [
    {
     "name": "stdout",
     "output_type": "stream",
     "text": [
      "2\n",
      "3\n",
      "8\n",
      "-----------\n",
      "2\n",
      "3\n",
      "8\n"
     ]
    }
   ],
   "source": [
    "print(fibonacci(2))\n",
    "print(fibonacci(3))\n",
    "print(fibonacci(5))\n",
    "print('-----------')\n",
    "print(fibonacci_l(2))\n",
    "print(fibonacci_l(3))\n",
    "print(fibonacci_l(5))"
   ]
  }
 ],
 "metadata": {
  "kernelspec": {
   "display_name": "Python 3 (ipykernel)",
   "language": "python",
   "name": "python3"
  },
  "language_info": {
   "codemirror_mode": {
    "name": "ipython",
    "version": 3
   },
   "file_extension": ".py",
   "mimetype": "text/x-python",
   "name": "python",
   "nbconvert_exporter": "python",
   "pygments_lexer": "ipython3",
   "version": "3.8.2"
  }
 },
 "nbformat": 4,
 "nbformat_minor": 5
}
