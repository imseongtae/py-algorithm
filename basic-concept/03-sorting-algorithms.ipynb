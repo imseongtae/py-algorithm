{
 "cells": [
  {
   "cell_type": "markdown",
   "id": "7e1a27a7",
   "metadata": {},
   "source": [
    "# Sorting algorithms"
   ]
  },
  {
   "cell_type": "markdown",
   "id": "504531cc",
   "metadata": {},
   "source": [
    "## Table of contents\n",
    "- [Selection Sort](#Selection-Sort)\n",
    "- [Insertion Sort](#Insertion-Sort)"
   ]
  },
  {
   "cell_type": "markdown",
   "id": "214c49d5",
   "metadata": {},
   "source": [
    "## Selection Sort\n",
    "선택 정렬은 제자리 비교 정렬이다. 복잡도는 O(n2)이므로 큰 리스트에는 비효율적이며, 유사한 삽입 정렬보다 성능이 더 떨어지는 것이 일반적이다. 선택 정렬은 단순함이 특징이며 특정한 상황에서는 더 복잡한 알고리즘보다 성능상 우위가 있다.\n",
    "이 알고리즘은 최소값을 찾고 값을 최초 위치와 바꿔친 다음 리스트의 나머지 부분에 대해 이 과정을 반복한다. 교환 과정은 n개를 넘지 않으므로 교환 비용이 많이 드는 상황에서 유용하다."
   ]
  },
  {
   "cell_type": "code",
   "execution_count": 45,
   "id": "7ab46e78",
   "metadata": {},
   "outputs": [
    {
     "name": "stdout",
     "output_type": "stream",
     "text": [
      "[5, 10, 11, 15, 32, 54, 66, 77]\n"
     ]
    }
   ],
   "source": [
    "arr = [5, 10, 66, 77, 54, 32, 11, 15] # 입력값\n",
    "result = [] # 정렬된 리스트\n",
    "\n",
    "def get_min(arr):\n",
    "    result = arr[0]\n",
    "    for item in arr:\n",
    "        if item < result:\n",
    "            result = item\n",
    "    return result\n",
    "\n",
    "\n",
    "while(len(arr)):\n",
    "    result.append(get_min(arr))    \n",
    "    arr.pop(arr.index(get_min(arr)))\n",
    "\n",
    "print(result)\n"
   ]
  },
  {
   "cell_type": "markdown",
   "id": "da2c4c27",
   "metadata": {},
   "source": [
    "## Insertion Sort\n",
    "\n",
    "삽입 정렬(揷入整列, insertion sort)은 자료 배열의 모든 요소를 앞에서부터 차례대로 이미 정렬된 배열 부분과 비교하여, 자신의 위치를 찾아 삽입함으로써 정렬을 완성하는 알고리즘이다. k번째 반복 후의 결과 배열은, 앞쪽 k + 1 항목이 정렬된 상태이다."
   ]
  },
  {
   "cell_type": "markdown",
   "id": "73cb1d86",
   "metadata": {},
   "source": [
    "## Merge Sort\n",
    "\n",
    "합병 정렬 또는 병합 정렬(merge sort)은 O(n log n) 비교 기반 정렬 알고리즘이다. 일반적인 방법으로 구현했을 때 이 정렬은 안정 정렬에 속하며, 분할 정복 알고리즘의 하나이다. 존 폰 노이만이 1945년에 개발했다. 상향식 합병 정렬에 대한 자세한 설명과 분석은 1948년 초 헤르만 골드스타인과 폰 노이만의 보고서에 등장하였다."
   ]
  },
  {
   "cell_type": "markdown",
   "id": "3f0687c8",
   "metadata": {},
   "source": [
    "<pre>\n",
    "arr = [5, 10, 66, 77, 54, 32, 11, 15]\n",
    "[5, 10, 66, 77], [54, 32, 11, 15]\n",
    "[5, 10], [66, 77], [54, 32], [11, 15]\n",
    "[5], [10], [66], [77], [54], [32], [11], [15]\n",
    "\n",
    "# 값을 비교하여 더 작은 값이 앞으로 오도록\n",
    "[5, 10], [66, 77], [54, 32], [11, 15]\n",
    "[5, 10], [66, 77], [32, 54], [11, 15]\n",
    "[5, 10, 66, 77], [11, 15, 32, 54]\n",
    "[5, 10, 11, 15, 32, 54, 66, 77]\n",
    "</pre>"
   ]
  }
 ],
 "metadata": {
  "kernelspec": {
   "display_name": "Python 3 (ipykernel)",
   "language": "python",
   "name": "python3"
  },
  "language_info": {
   "codemirror_mode": {
    "name": "ipython",
    "version": 3
   },
   "file_extension": ".py",
   "mimetype": "text/x-python",
   "name": "python",
   "nbconvert_exporter": "python",
   "pygments_lexer": "ipython3",
   "version": "3.8.2"
  }
 },
 "nbformat": 4,
 "nbformat_minor": 5
}
