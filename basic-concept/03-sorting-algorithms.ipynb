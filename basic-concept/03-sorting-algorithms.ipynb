{
 "cells": [
  {
   "cell_type": "markdown",
   "id": "6cd8441e",
   "metadata": {},
   "source": [
    "# Sorting algorithms"
   ]
  },
  {
   "cell_type": "markdown",
   "id": "0f878bcf",
   "metadata": {},
   "source": [
    "## Table of contents\n",
    "- [Selection Sort](#Selection-Sort)\n",
    "- [Insertion Sort](#Insertion-Sort)\n",
    "- [Merge Sort](#Merge-Sort)\n",
    "- [Quick Sort](#Quick-Sort)"
   ]
  },
  {
   "cell_type": "markdown",
   "id": "4adbfd41",
   "metadata": {},
   "source": [
    "## Selection Sort\n",
    "선택 정렬은 제자리 비교 정렬이다. 복잡도는 O(n2)이므로 큰 리스트에는 비효율적이며, 유사한 삽입 정렬보다 성능이 더 떨어지는 것이 일반적이다. 선택 정렬은 단순함이 특징이며 특정한 상황에서는 더 복잡한 알고리즘보다 성능상 우위가 있다.\n",
    "이 알고리즘은 최소값을 찾고 값을 최초 위치와 바꿔친 다음 리스트의 나머지 부분에 대해 이 과정을 반복한다. 교환 과정은 n개를 넘지 않으므로 교환 비용이 많이 드는 상황에서 유용하다."
   ]
  },
  {
   "cell_type": "code",
   "execution_count": 162,
   "id": "5ae6784f",
   "metadata": {},
   "outputs": [
    {
     "name": "stdout",
     "output_type": "stream",
     "text": [
      "selection_sort: [5, 10, 11, 15, 32, 54, 66, 77]\n"
     ]
    }
   ],
   "source": [
    "def get_min(arr):\n",
    "    result = arr[0]\n",
    "    for item in arr:\n",
    "        if item < result:\n",
    "            result = item\n",
    "    return result\n",
    "\n",
    "# arr.pop(arr.index(get_min(arr)))\n",
    "def get_min_index(arr):\n",
    "    result = 0\n",
    "    temp = arr[0]\n",
    "    for i in range(len(arr)):\n",
    "        if arr[i] < temp:\n",
    "            temp = arr[i] # 최솟값을 구하기 위해 임시변수에 다시 할당\n",
    "            result = i\n",
    "    return result\n",
    "\n",
    "def selection_sort(arr):\n",
    "    result = [] # 정렬된 리스트\n",
    "    while(len(arr)):\n",
    "        result.append(get_min(arr))\n",
    "        # print('get_min:', get_min(arr))\n",
    "        # print('get_min_index:', get_min_index(arr))\n",
    "        arr.pop(get_min_index(arr))\n",
    "    return result\n",
    "\n",
    "arr = [11, 15, 54, 66, 10, 5, 32, 77] # 입력값\n",
    "print('selection_sort:',selection_sort(arr))"
   ]
  },
  {
   "cell_type": "markdown",
   "id": "7d356df1",
   "metadata": {},
   "source": [
    "## Insertion Sort\n",
    "\n",
    "삽입 정렬(揷入整列, insertion sort)은 자료 배열의 모든 요소를 앞에서부터 차례대로 이미 정렬된 배열 부분과 비교하여, 자신의 위치를 찾아 삽입함으로써 정렬을 완성하는 알고리즘이다. k번째 반복 후의 결과 배열은, 앞쪽 k + 1 항목이 정렬된 상태이다."
   ]
  },
  {
   "cell_type": "code",
   "execution_count": 152,
   "id": "26bd0297",
   "metadata": {},
   "outputs": [
    {
     "name": "stdout",
     "output_type": "stream",
     "text": [
      "insertion_sort: [5, 10, 11, 15, 32, 54, 66, 77]\n"
     ]
    }
   ],
   "source": [
    "def get_insertion_index(extracted_item, result, arr):\n",
    "    for i in range(len(result)):\n",
    "        if extracted_item < result[i]:\n",
    "            return i\n",
    "    return len(arr)\n",
    "\n",
    "def insertion_sort(arr):\n",
    "    result = []\n",
    "    while(arr):\n",
    "        extracted_item = arr.pop(0)\n",
    "        index = get_insertion_index(extracted_item, result, arr)\n",
    "        result.insert(index, extracted_item)\n",
    "    return result\n",
    "    \n",
    "arr = [5, 10, 66, 77, 54, 32, 11, 15] # 입력값\n",
    "print('insertion_sort:',insertion_sort(arr))"
   ]
  },
  {
   "cell_type": "markdown",
   "id": "6a7ac04e",
   "metadata": {},
   "source": [
    "## Merge Sort\n",
    "\n",
    "합병 정렬 또는 병합 정렬(merge sort)은 O(n log n) 비교 기반 정렬 알고리즘이다. 일반적인 방법으로 구현했을 때 이 정렬은 안정 정렬에 속하며, 분할 정복 알고리즘의 하나이다. 존 폰 노이만이 1945년에 개발했다. 상향식 합병 정렬에 대한 자세한 설명과 분석은 1948년 초 헤르만 골드스타인과 폰 노이만의 보고서에 등장하였다."
   ]
  },
  {
   "cell_type": "markdown",
   "id": "805fa157",
   "metadata": {},
   "source": [
    "<pre>\n",
    "# 병합정렬\n",
    "# 분할, 정복\n",
    "arr = [5, 10, 66, 77, 54, 32, 11, 15] # 입력값\n",
    "length = len(arr)\n",
    "mid = length // 2\n",
    "arr[:mid]\n",
    "arr[mid:]\n",
    "\n",
    "# 분할\n",
    "[5, 10, 66, 77, 54, 32, 11, 15]\n",
    "[5, 10, 66, 77], [54, 32, 11, 15]\n",
    "[5, 10], [66, 77], [54, 32], [11, 15]\n",
    "[5], [10], [66], [77], [54], [32], [11], [15]\n",
    "\n",
    "# 정복 - 값을 비교하여 더 작은 값이 앞으로 오도록\n",
    "[5], [10], [66], [77], [54], [32], [11], [15]\n",
    "[5, 10], [66, 77], [32, 54], [11, 15]\n",
    "[5, 10, 66, 77], [11, 15, 32, 54]\n",
    "[5, 10, 11, 15, 32, 54, 66, 77]\n",
    "</pre>"
   ]
  },
  {
   "cell_type": "code",
   "execution_count": 60,
   "id": "10a1eeed",
   "metadata": {},
   "outputs": [],
   "source": [
    "def merge_sort(list):\n",
    "    result = []\n",
    "    length = len(list)\n",
    "    if length <= 1:\n",
    "        return list\n",
    "    mid = length // 2\n",
    "    # divide (분할)\n",
    "    first_subgroup = merge_sort(list[:mid])\n",
    "    second_subgroup = merge_sort(list[mid:])\n",
    "    \n",
    "    # conquer(정복)\n",
    "    while len(first_subgroup) and len(second_subgroup):\n",
    "        if first_subgroup[0] < second_subgroup[0]:\n",
    "            result.append(first_subgroup.pop(0))\n",
    "        else:\n",
    "            result.append(second_subgroup.pop(0))            \n",
    "    while len(first_subgroup):\n",
    "        result.append(first_subgroup.pop(0))\n",
    "    while len(second_subgroup):\n",
    "        result.append(second_subgroup.pop(0))\n",
    "    # return '첫 번째:{}, 두 번째: {}\\n'.format(first_subgroup, second_subgroup)\n",
    "    print(result)\n",
    "    return result"
   ]
  },
  {
   "cell_type": "code",
   "execution_count": 61,
   "id": "4ead4ad1",
   "metadata": {
    "scrolled": true
   },
   "outputs": [
    {
     "name": "stdout",
     "output_type": "stream",
     "text": [
      "[5, 10]\n",
      "[66, 77]\n",
      "[5, 10, 66, 77]\n",
      "[32, 54]\n",
      "[11, 15]\n",
      "[11, 15, 32, 54]\n",
      "[5, 10, 11, 15, 32, 54, 66, 77]\n",
      "merge_sort: [5, 10, 11, 15, 32, 54, 66, 77]\n"
     ]
    }
   ],
   "source": [
    "arr = [5, 10, 66, 77, 54, 32, 11, 15] # 입력값\n",
    "print('merge_sort:',merge_sort(arr))"
   ]
  },
  {
   "cell_type": "markdown",
   "id": "37177f41",
   "metadata": {},
   "source": [
    "## Quick Sort\n",
    "\n",
    "퀵 정렬은 다른 원소와의 비교만으로 정렬을 수행하는 비교 정렬에 속한다. n개의 데이터를 정렬할 때, 평균적으로 O(n log n)번의 비교를 수행하지만 최악의 경우에는 O(n2)번의 비교를 수행한다. \n",
    "\n",
    "퀵 정렬은 **분할 정복(divide and conquer) 방법**을 통해 리스트를 정렬한다.\n",
    "\n",
    "1. 리스트 가운데서 하나의 원소를 고른다. 이렇게 고른 원소를 피벗이라고 한다.\n",
    "1. 피벗 앞에는 피벗보다 값이 작은 모든 원소들이 오고, 피벗 뒤에는 피벗보다 값이 큰 모든 원소들이 오도록 피벗을 기준으로 리스트를 둘로 나눈다. 이렇게 리스트를 둘로 나누는 것을 분할이라고 한다. 분할을 마친 뒤에 피벗은 더 이상 움직이지 않는다.\n",
    "1. 분할된 두 개의 작은 리스트에 대해 재귀(Recursion)적으로 이 과정을 반복한다. 재귀는 리스트의 크기가 0이나 1이 될 때까지 반복된다. 재귀 호출이 한번 진행될 때마다 최소한 하나의 원소는 최종적으로 위치가 정해지므로, 이 알고리즘은 반드시 끝난다는 것을 보장할 수 있다."
   ]
  },
  {
   "cell_type": "markdown",
   "id": "e8cd2a72",
   "metadata": {},
   "source": [
    "<pre>\n",
    "# 분할, 정복 방법 예시\n",
    "\n",
    "[66, 77, 54, 32, 10, 5, 11, 15]\n",
    "[54, 32, 10, 5, 11, 15] + [66] + [77]\n",
    "[32, 10, 5, 11, 15] + [54] + [66] + [77] \n",
    "[10, 5, 11, 15] + [32] + [54] + [66] + [77] \n",
    "[5], [10], [11, 15] + [32] + [54] + [66] + [77]\n",
    "[5], [10], [11], [15] + [32] + [54] + [66] + [77]\n",
    "</pre>"
   ]
  },
  {
   "cell_type": "code",
   "execution_count": 125,
   "id": "88bc4ce4",
   "metadata": {},
   "outputs": [],
   "source": [
    "g_list = []\n",
    "\n",
    "def quick_sort(list):\n",
    "    global g_list\n",
    "    length = len(list)\n",
    "    if length <= 1:\n",
    "        return list\n",
    "    pivot = list.pop(0)\n",
    "    smaller_group = []\n",
    "    bigger_group = []\n",
    "    \n",
    "    for iterator in list:\n",
    "        if pivot < iterator:\n",
    "            bigger_group.append(iterator)\n",
    "        else:\n",
    "            smaller_group.append(iterator)\n",
    "            \n",
    "    console_log = 'smaller_group: {}, pivot: {}, bigger_group: {}'.format(smaller_group, [pivot], bigger_group)\n",
    "    g_list.append(console_log)\n",
    "    return quick_sort(smaller_group) + [pivot] + quick_sort(bigger_group)"
   ]
  },
  {
   "cell_type": "code",
   "execution_count": 126,
   "id": "d107cc92",
   "metadata": {},
   "outputs": [
    {
     "name": "stdout",
     "output_type": "stream",
     "text": [
      "quick_sort: [5, 10, 11, 15, 32, 54, 66, 77]\n"
     ]
    }
   ],
   "source": [
    "arr = [66, 77, 54, 32, 10, 5, 11, 15] # 입력값\n",
    "print('quick_sort:', quick_sort(arr))"
   ]
  },
  {
   "cell_type": "code",
   "execution_count": 127,
   "id": "eda32317",
   "metadata": {},
   "outputs": [
    {
     "name": "stdout",
     "output_type": "stream",
     "text": [
      "smaller_group: [54, 32, 10, 5, 11, 15], pivot: [66], bigger_group: [77]\n",
      "smaller_group: [32, 10, 5, 11, 15], pivot: [54], bigger_group: []\n",
      "smaller_group: [10, 5, 11, 15], pivot: [32], bigger_group: []\n",
      "smaller_group: [5], pivot: [10], bigger_group: [11, 15]\n",
      "smaller_group: [], pivot: [11], bigger_group: [15]\n"
     ]
    }
   ],
   "source": [
    "for iter in g_list:\n",
    "    print(iter)"
   ]
  }
 ],
 "metadata": {
  "kernelspec": {
   "display_name": "Python 3 (ipykernel)",
   "language": "python",
   "name": "python3"
  },
  "language_info": {
   "codemirror_mode": {
    "name": "ipython",
    "version": 3
   },
   "file_extension": ".py",
   "mimetype": "text/x-python",
   "name": "python",
   "nbconvert_exporter": "python",
   "pygments_lexer": "ipython3",
   "version": "3.8.2"
  }
 },
 "nbformat": 4,
 "nbformat_minor": 5
}
