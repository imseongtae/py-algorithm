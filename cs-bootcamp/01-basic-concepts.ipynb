{
 "cells": [
  {
   "cell_type": "markdown",
   "id": "e6b4a248",
   "metadata": {},
   "source": [
    "# basic concepts\n",
    "\n",
    "## table of contents\n",
    "1. [Memory](#1.-Memory)\n",
    "1. [Variable](#2.-Variable)\n",
    "1. [Number](#3.-Number)"
   ]
  },
  {
   "cell_type": "markdown",
   "id": "60614697",
   "metadata": {},
   "source": [
    "## 1. Memory\n",
    "\n",
    "변수(variable)나 참조(reference)의 개념을 이해하기 위해서는 메모리부터 이해해야 한다. 컴퓨터는 1과 0으로 이루어진 데이터를 처리하며, 이 단위를 비트라고 표현한다. 비트는 1과 0으로 이루어지며, 비트가 여덟 개 모이면 바이트(Byte)라고 한다."
   ]
  },
  {
   "cell_type": "markdown",
   "id": "ea23de03",
   "metadata": {},
   "source": [
    "### 32비트와 64비트의 의미\n",
    "컴퓨터는 데이터 단위로 비트를 사용하는데, 이때 데이터를 한 번에 몇 개씩 보낼 수 있는지 나타내는 지표가 32비트와 64비트이다. 비트가 높을수록 한 번에 전송할 수 있는 데이터의 양이 많아진다."
   ]
  },
  {
   "cell_type": "markdown",
   "id": "1202de5b",
   "metadata": {},
   "source": [
    "## 2. Variable\n",
    "\n",
    "### 변수의 의미\n",
    "변수란 데이터를 저장할 수 있는 **메모리 공간**을 의미. 중요한 것은 변수는 단순히 이름이 아니라 **메모리 공간 자체**를 의미. 변수는 숫자와 문자뿐만 아니라 객체, 함수까지도 담을 수 있음. 변수에 담긴 값이나 가리키는 **대상은 언제라도 변경**될 수 있다.\n"
   ]
  },
  {
   "cell_type": "code",
   "execution_count": 2,
   "id": "266f1616",
   "metadata": {},
   "outputs": [
    {
     "data": {
      "text/plain": [
       "5"
      ]
     },
     "execution_count": 2,
     "metadata": {},
     "output_type": "execute_result"
    }
   ],
   "source": [
    "num = 5\n",
    "num"
   ]
  },
  {
   "cell_type": "markdown",
   "id": "eb1c27c1",
   "metadata": {},
   "source": [
    "num이라는 '이름'(식별자)은 '5'라는 값 객체를 가리키지만 num은 5라는 값을 담고 있는 메모리 공간을 의미하지 않는다. 값 객체는 다른 메모리 공간에 있다.  \n",
    "아래 코드는 num이라는 변수의 타입이 상수가 아니라 int라는 클래스의 인스턴스(객체)라는 것을 알려준다. "
   ]
  },
  {
   "cell_type": "code",
   "execution_count": 6,
   "id": "d8d6be1d",
   "metadata": {
    "scrolled": true
   },
   "outputs": [
    {
     "name": "stdout",
     "output_type": "stream",
     "text": [
      "<class 'int'>\n"
     ]
    }
   ],
   "source": [
    "print(type(num))"
   ]
  },
  {
   "cell_type": "markdown",
   "id": "ddd16250",
   "metadata": {},
   "source": [
    "## 3. Number\n",
    "\n",
    "컴퓨터는 0과 1만 인식하기 때문에 사람과 다른 방법으로 수를 표현한다. 수의 종류 중 하나인 정수에 대해 이해하고, 양의 정수와 음의 정수가 컴퓨터 메모리에 어떻게 저장되는지 이해하면 컴퓨터가 수를 표현하는 방법에 대해 이해를 얻을 수 있다.\n",
    "\n",
    "***정수**: 양의 정수, 0, 음의 정수를 통틀어서 이르는 말"
   ]
  },
  {
   "cell_type": "markdown",
   "id": "f95f196b",
   "metadata": {},
   "source": [
    "### 컴퓨터에서 수를 표현하는 방법\n",
    "\n",
    "수를 표현하는 방법을 기수법이라고 하는데, 밑수를 정하면 밑수 개수만큼의 숫자를 사용해 수를 나타낼 수 있다. 예를 들어 우리가 일상에서 사용하는 10진수는 밑수가 10이고, 열 개의 숫자로 수를 표현한다.\n",
    "\n",
    "- **10진수**: 0,1,2,3,4,5,6,7,8,9 - 총 10개의 숫자\n",
    "- **2진수**: 0,1 - 총 2개의 숫자\n",
    "- **16진수**: 0,1,2,3,4,5,6,7,8,9,a,b,c,d,e,f - 총 16개의 숫자"
   ]
  },
  {
   "cell_type": "markdown",
   "id": "b0d6a4b3",
   "metadata": {},
   "source": [
    "### 10진수를 2진수로\n",
    "\n",
    "아래는 10진수 25를 2진수로 바꾸는 진수 변환\n",
    "\n",
    "```\n",
    "25 == 16 + 9\n",
    "25 == 16 + 8 + 1\n",
    "25 == 1*(2*2*2*2) + 1*(2*2*2) + 0*(2*2) + 0*(2) + 1*(1)\n",
    "```\n",
    "\n",
    "2의 거듭제곱 수를 제외하고, 앞의 수 1과 0만 모아 나열하면 **11001**  \n",
    "25를 2진수로 변환하면 11001이다ㅏ. 파이썬 코드를 통해서도 바르게 변환되는 것을 확인 가능."
   ]
  },
  {
   "cell_type": "code",
   "execution_count": 9,
   "id": "250c5403",
   "metadata": {},
   "outputs": [
    {
     "data": {
      "text/plain": [
       "'0b11001'"
      ]
     },
     "execution_count": 9,
     "metadata": {},
     "output_type": "execute_result"
    }
   ],
   "source": [
    "# bin() 함수는 정수를 2진수로 표현하는 함수. 결괏값 앞에 나오는 0b는 2진수를 의미하는 binary.\n",
    "# 16진수는 0x(hexadecimal)를 앞에 붙여줌\n",
    "bin(25)"
   ]
  },
  {
   "cell_type": "markdown",
   "id": "bdc05211",
   "metadata": {},
   "source": [
    "### 2진수를 10진수로 나타내기\n",
    "\n",
    "2진수 11001을 10진수로 바꾸는 진수 변환\n",
    "\n",
    "\n",
    "11001 위 오른쪽 끝부터 0,1,2,3,4를 차례로 적고, 지수를 표현\n",
    "```\n",
    "-4 3 2 1 0-\n",
    " 1 1 0 0 1\n",
    "```\n",
    "\n",
    "적어둔 지수를 활용하여 2의 거듭제곱 수의 합으로 표현\n",
    "```\n",
    "1*(2*2*2*2) + 1*(2*2*2) + 0*(2*2) + 0*(2) + 1*(1)\n",
    "```\n",
    "\n",
    "수식을 계산한 결괏값이 10진수\n",
    "```\n",
    "16+8+1 = 25\n",
    "```\n",
    "\n"
   ]
  },
  {
   "cell_type": "markdown",
   "id": "119bab3f",
   "metadata": {},
   "source": [
    "### 16진수를 2진수로 나타내기\n",
    "\n",
    "16진수 한 자리는 0부터 f까지 **최대 10진수 15까지** 표현할 수 있음\n",
    "\n",
    "15를 2진수로 표현하면\n",
    "\n",
    "```\n",
    "f == 1111\n",
    "```\n",
    "1111이 됨. 이처럼 16진수 한 자리는 2진수 4자리를 표현할 수 있음  \n",
    "16진수를 2진수로 변환할 때 0부터 9까지 변환하는 방법은 10진수에서 2진수로 변환할 때 쓰는 방법과 같음\n",
    "\n",
    "#### 16진수 9를 2진수로 변환하기  \n",
    "\n",
    "```\n",
    "9 == 8 + 1\n",
    "9 == 1*(2*2*2) + 0*(2*2) + 0*(2) + 1*(1)\n",
    "\n",
    "9 == 0b1001\n",
    "```\n",
    "\n",
    "#### 16진수 a를 2진수로 변환하기\n",
    "\n",
    "```\n",
    "a == 8 + 2\n",
    "a == 1*(2*2*2) + 0*(2*2) + 1*(2) + 0*(1)\n",
    "\n",
    "a == 0b1010\n",
    "```\n",
    "\n",
    "#### 16진수 b부터 f까지 2진수로 변환한 결괏값\n",
    "\n",
    "```\n",
    "b == 0b1011\n",
    "c == 0b1100 \n",
    "d == 0b1101\n",
    "e == 0b1110\n",
    "f == 0b1111\n",
    "```"
   ]
  },
  {
   "cell_type": "markdown",
   "id": "f12efd18",
   "metadata": {},
   "source": [
    "### 함수를 활용해 진수 변환 확인하기\n",
    "hex() 함수는 정수를 16진수로 표현. 2진수로 표현하면 8비트를 표현하는데 8자릿수가 필요하지만 16진수로 표현하면 두 자릿수로 간단히 나타내어 가독성을 높일 수 있음.  \n",
    "이러한 이유로 **메모리 주소를 나타낼 때 16진수**를 사용함."
   ]
  },
  {
   "cell_type": "code",
   "execution_count": 15,
   "id": "0675a9bc",
   "metadata": {
    "scrolled": true
   },
   "outputs": [
    {
     "name": "stdout",
     "output_type": "stream",
     "text": [
      "a: 0b1010 10\n",
      "b: 0b1011 11\n",
      "c: 0b1100 12\n",
      "d: 0b1101 13\n",
      "e: 0b1110 14\n",
      "f: 0b1111 15\n"
     ]
    }
   ],
   "source": [
    "a = 0xa\n",
    "b = 0xb\n",
    "c = 0xc\n",
    "d = 0xd\n",
    "e = 0xe\n",
    "f = 0xf\n",
    "\n",
    "print('a:', bin(a), a)\n",
    "print('b:', bin(b), b)\n",
    "print('c:', bin(c), c)\n",
    "print('d:', bin(d), d)\n",
    "print('e:', bin(e), e)\n",
    "print('f:', bin(f), f)"
   ]
  },
  {
   "cell_type": "code",
   "execution_count": 16,
   "id": "10738d21",
   "metadata": {},
   "outputs": [
    {
     "name": "stdout",
     "output_type": "stream",
     "text": [
      "address_8bit: 45\n",
      "hex address_8bit: 0x2d\n"
     ]
    }
   ],
   "source": [
    "address_8bit = 0b00101101\n",
    "print('address_8bit:', address_8bit)\n",
    "print('hex address_8bit:', hex(address_8bit))"
   ]
  },
  {
   "cell_type": "code",
   "execution_count": 17,
   "id": "febdf23c",
   "metadata": {},
   "outputs": [
    {
     "name": "stdout",
     "output_type": "stream",
     "text": [
      "address_32bit: 305441741\n",
      "bin address_32bit: 0b10010001101001010101111001101\n"
     ]
    }
   ],
   "source": [
    "address_32bit = 0x1234abcd\n",
    "print('address_32bit:', address_32bit)\n",
    "print('bin address_32bit:', bin(address_32bit))"
   ]
  },
  {
   "cell_type": "code",
   "execution_count": null,
   "id": "0b536ada",
   "metadata": {},
   "outputs": [],
   "source": []
  }
 ],
 "metadata": {
  "kernelspec": {
   "display_name": "Python 3 (ipykernel)",
   "language": "python",
   "name": "python3"
  },
  "language_info": {
   "codemirror_mode": {
    "name": "ipython",
    "version": 3
   },
   "file_extension": ".py",
   "mimetype": "text/x-python",
   "name": "python",
   "nbconvert_exporter": "python",
   "pygments_lexer": "ipython3",
   "version": "3.8.2"
  }
 },
 "nbformat": 4,
 "nbformat_minor": 5
}
