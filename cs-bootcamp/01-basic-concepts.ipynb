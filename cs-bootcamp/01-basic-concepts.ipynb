{
 "cells": [
  {
   "cell_type": "markdown",
   "id": "e6b4a248",
   "metadata": {},
   "source": [
    "# basic concepts\n",
    "\n",
    "## table of contents\n",
    "1. [Memory](#1.-Memory)\n",
    "1. [Variable](#2.-Variable)\n",
    "1. [Integer (정수)](#3.-Integer)\n",
    "1. [Real number (실수)](#4.-Real-number)\n",
    "1. [문자와 문자열](#5.-문자와-문자열)"
   ]
  },
  {
   "cell_type": "markdown",
   "id": "60614697",
   "metadata": {},
   "source": [
    "## 1. Memory\n",
    "\n",
    "변수(variable)나 참조(reference)의 개념을 이해하기 위해서는 메모리부터 이해해야 한다. 컴퓨터는 1과 0으로 이루어진 데이터를 처리하며, 이 단위를 비트라고 표현한다. 비트는 1과 0으로 이루어지며, 비트가 여덟 개 모이면 바이트(Byte)라고 한다."
   ]
  },
  {
   "cell_type": "markdown",
   "id": "ea23de03",
   "metadata": {},
   "source": [
    "### 32비트와 64비트의 의미\n",
    "컴퓨터는 데이터 단위로 비트를 사용하는데, 이때 데이터를 한 번에 몇 개씩 보낼 수 있는지 나타내는 지표가 32비트와 64비트이다. 비트가 높을수록 한 번에 전송할 수 있는 데이터의 양이 많아진다."
   ]
  },
  {
   "cell_type": "markdown",
   "id": "1202de5b",
   "metadata": {},
   "source": [
    "## 2. Variable\n",
    "\n",
    "### 변수의 의미\n",
    "변수란 데이터를 저장할 수 있는 **메모리 공간**을 의미. 중요한 것은 변수는 단순히 이름이 아니라 **메모리 공간 자체**를 의미. 변수는 숫자와 문자뿐만 아니라 객체, 함수까지도 담을 수 있음. 변수에 담긴 값이나 가리키는 **대상은 언제라도 변경**될 수 있다.\n"
   ]
  },
  {
   "cell_type": "code",
   "execution_count": 2,
   "id": "266f1616",
   "metadata": {},
   "outputs": [
    {
     "data": {
      "text/plain": [
       "5"
      ]
     },
     "execution_count": 2,
     "metadata": {},
     "output_type": "execute_result"
    }
   ],
   "source": [
    "num = 5\n",
    "num"
   ]
  },
  {
   "cell_type": "markdown",
   "id": "eb1c27c1",
   "metadata": {},
   "source": [
    "num이라는 '이름'(식별자)은 '5'라는 값 객체를 가리키지만 num은 5라는 값을 담고 있는 메모리 공간을 의미하지 않는다. 값 객체는 다른 메모리 공간에 있다.  \n",
    "아래 코드는 num이라는 변수의 타입이 상수가 아니라 int라는 클래스의 인스턴스(객체)라는 것을 알려준다. "
   ]
  },
  {
   "cell_type": "code",
   "execution_count": 6,
   "id": "d8d6be1d",
   "metadata": {
    "scrolled": true
   },
   "outputs": [
    {
     "name": "stdout",
     "output_type": "stream",
     "text": [
      "<class 'int'>\n"
     ]
    }
   ],
   "source": [
    "print(type(num))"
   ]
  },
  {
   "cell_type": "markdown",
   "id": "ddd16250",
   "metadata": {},
   "source": [
    "## 3. Integer\n",
    "\n",
    "컴퓨터는 0과 1만 인식하기 때문에 사람과 다른 방법으로 수를 표현한다. 수의 종류 중 하나인 정수에 대해 이해하고, 양의 정수와 음의 정수가 컴퓨터 메모리에 어떻게 저장되는지 이해하면 컴퓨터가 수를 표현하는 방법에 대해 이해를 얻을 수 있다.\n",
    "\n",
    "***정수**: 양의 정수, 0, 음의 정수를 통틀어서 이르는 말"
   ]
  },
  {
   "cell_type": "markdown",
   "id": "f95f196b",
   "metadata": {},
   "source": [
    "### 컴퓨터에서 수를 표현하는 방법\n",
    "\n",
    "수를 표현하는 방법을 기수법이라고 하는데, 밑수를 정하면 밑수 개수만큼의 숫자를 사용해 수를 나타낼 수 있다. 예를 들어 우리가 일상에서 사용하는 10진수는 밑수가 10이고, 열 개의 숫자로 수를 표현한다.\n",
    "\n",
    "- **10진수**: 0,1,2,3,4,5,6,7,8,9 - 총 10개의 숫자\n",
    "- **2진수**: 0,1 - 총 2개의 숫자\n",
    "- **16진수**: 0,1,2,3,4,5,6,7,8,9,a,b,c,d,e,f - 총 16개의 숫자"
   ]
  },
  {
   "cell_type": "markdown",
   "id": "b0d6a4b3",
   "metadata": {},
   "source": [
    "### 10진수를 2진수로\n",
    "\n",
    "아래는 10진수 25를 2진수로 바꾸는 진수 변환\n",
    "\n",
    "```\n",
    "25 == 16 + 9\n",
    "25 == 16 + 8 + 1\n",
    "25 == 1*(2*2*2*2) + 1*(2*2*2) + 0*(2*2) + 0*(2) + 1*(1)\n",
    "```\n",
    "\n",
    "2의 거듭제곱 수를 제외하고, 앞의 수 1과 0만 모아 나열하면 **11001**  \n",
    "25를 2진수로 변환하면 11001이다ㅏ. 파이썬 코드를 통해서도 바르게 변환되는 것을 확인 가능."
   ]
  },
  {
   "cell_type": "code",
   "execution_count": 9,
   "id": "250c5403",
   "metadata": {},
   "outputs": [
    {
     "data": {
      "text/plain": [
       "'0b11001'"
      ]
     },
     "execution_count": 9,
     "metadata": {},
     "output_type": "execute_result"
    }
   ],
   "source": [
    "# bin() 함수는 정수를 2진수로 표현하는 함수. 결괏값 앞에 나오는 0b는 2진수를 의미하는 binary.\n",
    "# 16진수는 0x(hexadecimal)를 앞에 붙여줌\n",
    "bin(25)"
   ]
  },
  {
   "cell_type": "markdown",
   "id": "bdc05211",
   "metadata": {},
   "source": [
    "### 2진수를 10진수로 나타내기\n",
    "\n",
    "2진수 11001을 10진수로 바꾸는 진수 변환\n",
    "\n",
    "\n",
    "11001 위 오른쪽 끝부터 0,1,2,3,4를 차례로 적고, 지수를 표현\n",
    "```\n",
    "-4 3 2 1 0-\n",
    " 1 1 0 0 1\n",
    "```\n",
    "\n",
    "적어둔 지수를 활용하여 2의 거듭제곱 수의 합으로 표현\n",
    "```\n",
    "1*(2*2*2*2) + 1*(2*2*2) + 0*(2*2) + 0*(2) + 1*(1)\n",
    "```\n",
    "\n",
    "수식을 계산한 결괏값이 10진수\n",
    "```\n",
    "16+8+1 = 25\n",
    "```\n",
    "\n"
   ]
  },
  {
   "cell_type": "markdown",
   "id": "119bab3f",
   "metadata": {},
   "source": [
    "### 16진수를 2진수로 나타내기\n",
    "\n",
    "16진수 한 자리는 0부터 f까지 **최대 10진수 15까지** 표현할 수 있음\n",
    "\n",
    "15를 2진수로 표현하면\n",
    "\n",
    "```\n",
    "f == 1111\n",
    "```\n",
    "1111이 됨. 이처럼 16진수 한 자리는 2진수 4자리를 표현할 수 있음  \n",
    "16진수를 2진수로 변환할 때 0부터 9까지 변환하는 방법은 10진수에서 2진수로 변환할 때 쓰는 방법과 같음\n",
    "\n",
    "#### 16진수 9를 2진수로 변환하기  \n",
    "\n",
    "```\n",
    "9 == 8 + 1\n",
    "9 == 1*(2*2*2) + 0*(2*2) + 0*(2) + 1*(1)\n",
    "\n",
    "9 == 0b1001\n",
    "```\n",
    "\n",
    "#### 16진수 a를 2진수로 변환하기\n",
    "\n",
    "```\n",
    "a == 8 + 2\n",
    "a == 1*(2*2*2) + 0*(2*2) + 1*(2) + 0*(1)\n",
    "\n",
    "a == 0b1010\n",
    "```\n",
    "\n",
    "#### 16진수 b부터 f까지 2진수로 변환한 결괏값\n",
    "\n",
    "```\n",
    "b == 0b1011\n",
    "c == 0b1100 \n",
    "d == 0b1101\n",
    "e == 0b1110\n",
    "f == 0b1111\n",
    "```"
   ]
  },
  {
   "cell_type": "markdown",
   "id": "f12efd18",
   "metadata": {},
   "source": [
    "### 파이썬 함수를 활용해 진수 변환 확인하기\n",
    "hex() 함수는 정수를 16진수로 표현. 2진수로 표현하면 8비트를 표현하는데 8자릿수가 필요하지만 16진수로 표현하면 두 자릿수로 간단히 나타내어 가독성을 높일 수 있음.  \n",
    "이러한 이유로 **메모리 주소를 나타낼 때 16진수**를 사용함."
   ]
  },
  {
   "cell_type": "code",
   "execution_count": 15,
   "id": "0675a9bc",
   "metadata": {
    "scrolled": true
   },
   "outputs": [
    {
     "name": "stdout",
     "output_type": "stream",
     "text": [
      "a: 0b1010 10\n",
      "b: 0b1011 11\n",
      "c: 0b1100 12\n",
      "d: 0b1101 13\n",
      "e: 0b1110 14\n",
      "f: 0b1111 15\n"
     ]
    }
   ],
   "source": [
    "a = 0xa\n",
    "b = 0xb\n",
    "c = 0xc\n",
    "d = 0xd\n",
    "e = 0xe\n",
    "f = 0xf\n",
    "\n",
    "print('a:', bin(a), a)\n",
    "print('b:', bin(b), b)\n",
    "print('c:', bin(c), c)\n",
    "print('d:', bin(d), d)\n",
    "print('e:', bin(e), e)\n",
    "print('f:', bin(f), f)"
   ]
  },
  {
   "cell_type": "code",
   "execution_count": 16,
   "id": "10738d21",
   "metadata": {},
   "outputs": [
    {
     "name": "stdout",
     "output_type": "stream",
     "text": [
      "address_8bit: 45\n",
      "hex address_8bit: 0x2d\n"
     ]
    }
   ],
   "source": [
    "address_8bit = 0b00101101\n",
    "print('address_8bit:', address_8bit)\n",
    "print('hex address_8bit:', hex(address_8bit))"
   ]
  },
  {
   "cell_type": "code",
   "execution_count": 17,
   "id": "febdf23c",
   "metadata": {},
   "outputs": [
    {
     "name": "stdout",
     "output_type": "stream",
     "text": [
      "address_32bit: 305441741\n",
      "bin address_32bit: 0b10010001101001010101111001101\n"
     ]
    }
   ],
   "source": [
    "address_32bit = 0x1234abcd\n",
    "print('address_32bit:', address_32bit)\n",
    "print('bin address_32bit:', bin(address_32bit))"
   ]
  },
  {
   "cell_type": "markdown",
   "id": "fdc6f623",
   "metadata": {},
   "source": [
    "### 양의 정수\n",
    "\n",
    "컴퓨터가 양의 정수를 표현하는 방법(컴퓨터는 정수를 1바이트, 2바이트, 4바이트, 8바이트 등 다양한 크기로 저장하지만 여기서는 1바이트를 기준으로 설명)  \n",
    "**정수에는 양수와 음수가 있으므로 부호를 나타내는데 1비트를 사용하며, 맨 앞의 비트가 0이면 양수, 1이면 음수이다.**\n",
    "\n",
    "10진수 25를 2진수로 변환환하면 11001과 같고, ㄴ나머지 비트를 0으로 채우면 메모리에는 아래와 같이 저장됨\n",
    "맨 앞의 비트가 부호를 나타낸다는 사실만 알고 있다면 10진수를 2진수로 변환한 것과 같음\n",
    "\n",
    "```\n",
    "0001 1001\n",
    "```"
   ]
  },
  {
   "cell_type": "markdown",
   "id": "73edd611",
   "metadata": {},
   "source": [
    "### 음의 정수\n",
    "\n",
    "컴퓨터가 음의 정수를 표현하는 방법(컴퓨터는 정수를 1바이트, 2바이트, 4바이트, 8바이트 등 다양한 크기로 저장하지만 여기서는 1바이트를 기준으로 설명)  \n",
    "음의 정수를 이해하기 위해서 **보수(complement)에 대한 이해**가 필요함. 컴퓨터는 음수를 보수 형태로 바꿔서 저장하므로 음의 정수가 어떻게 저장되는지 이해하려면 보수의 개념을 반드시 알아야 함 \n",
    "\n",
    "***2의 보수가 중요한 이유는 컴퓨터가 음수를 표현할 때 2의 보수를 사용하기 때문**"
   ]
  },
  {
   "cell_type": "markdown",
   "id": "b2eea666",
   "metadata": {},
   "source": [
    "#### 보수의 개념\n",
    "\n",
    "보수는 **보충해주는 수**를 말한다. (보수는 어떤 수의 각 자릿수 수를 구하는 값에서 빼면 구할 수 있다. 가령, 9의 보수는 어떤 수의 각 자릿수 수를 9에서 빼면 됨)\n",
    "\n",
    "10진수에서 9의 보수를 구하는 경우\n",
    "```\n",
    "3에 대해 9의 보수: 3 + x == 9\n",
    "x = 6\n",
    "\n",
    "26에 대해 9의 보수: 26 + x == 99\n",
    "x = 73\n",
    "```\n",
    "\n",
    "10진수에서 10의 보수를 구하는 경우 (**10의 보수는 9의 보수를 구하고 1을 더하면 얻을 수 있음**)\n",
    "```\n",
    "3에 대해 10의 보수: 3 + x == 9\n",
    "x == 6\n",
    "x = 6 + 1\n",
    "x = 7\n",
    "\n",
    "26에 대해 10의 보수: 26 + x = 99\n",
    "x == 73\n",
    "x = 73 + 1\n",
    "x = 74\n",
    "```\n",
    "\n",
    "10진수에서 9의 보수와 10의 보수 구하기\n",
    "```\n",
    "123에 대해 9의 보수: 123 + x == 999\n",
    "x = 876\n",
    "\n",
    "123에 대해 10의 보수: 123 + x == 999\n",
    "x == 876\n",
    "x = x + 1 (9의 보수에 1을 더하기)\n",
    "\n",
    "x = 877\n",
    "```\n",
    "\n",
    "\n",
    "<img src=\"https://user-images.githubusercontent.com/60806840/132192050-51d291d4-5cee-47d4-a5a8-3ad9820b7ba7.png\" align=\"left\" />"
   ]
  },
  {
   "cell_type": "markdown",
   "id": "8c4f6313",
   "metadata": {},
   "source": [
    "### 컴퓨터에서 음수의 표현\n",
    "컴퓨터는 음수를 2의 보수로 표현한다.  \n",
    "\n",
    "\n",
    "<img src=\"https://user-images.githubusercontent.com/60806840/132191995-f8392b88-8e1c-47e5-8d01-3ead03fd8988.png\" align=\"left\" alt=\"컴퓨터가 -4를 표현하는 방법\" />"
   ]
  },
  {
   "cell_type": "code",
   "execution_count": 4,
   "id": "e5a7e6f1",
   "metadata": {},
   "outputs": [
    {
     "data": {
      "text/plain": [
       "b'\\xfc'"
      ]
     },
     "execution_count": 4,
     "metadata": {},
     "output_type": "execute_result"
    }
   ],
   "source": [
    "# 컴퓨터는 -4를 1111 1100으로 표현하는데, 파이썬 함수로 이를 확인해보면!\n",
    "(-4).to_bytes(1, byteorder='little', signed=True)\n",
    "\n",
    "# 위 코드는 -4라는 정수를 컴퓨터 메모리에 저장되는 바이트 형태로 표현한 코드이다.\n",
    "# 출력값은 16진수로 표현됨"
   ]
  },
  {
   "cell_type": "code",
   "execution_count": 5,
   "id": "1fe7fdaf",
   "metadata": {},
   "outputs": [
    {
     "data": {
      "text/plain": [
       "'0b11111100'"
      ]
     },
     "execution_count": 5,
     "metadata": {},
     "output_type": "execute_result"
    }
   ],
   "source": [
    "bin(0xfc)"
   ]
  },
  {
   "cell_type": "markdown",
   "id": "53087b35",
   "metadata": {},
   "source": [
    "### 컴퓨터가 2의 보수로 표현하는 이유\n",
    "컴퓨터의 연산 방식을 이해하면 음수를 왜 2의 보수로 저장하는지 이해할 수 있게 된다.\n",
    "\n",
    "첫째, **양수와 음수를 모두 양수처럼 저장한다고 가정하면, 0을 표현하는 2가지 방법이 존재하게 된다.** 0000 0000과 1000 0000은 +0과 -0이 되는데, 이렇게 되면 컴퓨터 입장에서는 수 하나를 더 표현할 수 있는데 비트를 낭비하는 셈이 된다. 또한 두 수를 비교할 때 CPU에서 뺄셈을 하는데 결과값이 예상과 다르게 나올 수 있다. \n",
    "\n",
    "둘째, **뺄셈은 보수의 개념을 활용한다.** 컴퓨터에서 정수의 뺄셈 과정을 살펴보면, 단순히 두 수를 더하는 덧셈과 다르게 보수 개념을 활용한다. 컴퓨터는 9-4를 계산할 때 9와 -4를 더한다.  \n",
    "계산을 진행할 때 받아올림이 발생하면 받아올림 수(맨 앞의 1)는 버린다. \n",
    "\n",
    "\n",
    "<img src=\"https://user-images.githubusercontent.com/60806840/132206105-d9767641-d1fc-4f77-95bd-231357bd5fed.png\" align=\"left\" />"
   ]
  },
  {
   "cell_type": "markdown",
   "id": "9b0c2e9b",
   "metadata": {},
   "source": [
    "## 4. Real number\n",
    "\n",
    "실수에 대해 학습하면 0.01을 100번 더했을 때 정확하게 1이 나오지 않는 이유를 알 수 있다.  \n",
    "부동소수점은 지수부에 따라 아주 작은 수와 아주 큰 수를 표현할 수 있지만 어떤 상황에서는 16과 17 같이 큰 단위의 정수조차 제대로 표현할 수 없을 때도 있다. **'표현 범위는 넓지만 정밀도는 낮다'**는 의미는 이런 상황에서 적절하게 사용될 수 있다."
   ]
  },
  {
   "cell_type": "code",
   "execution_count": 6,
   "id": "c2b9fc09",
   "metadata": {},
   "outputs": [
    {
     "name": "stdout",
     "output_type": "stream",
     "text": [
      "value: 0.04\n",
      "type: <class 'float'>\n"
     ]
    }
   ],
   "source": [
    "real_num = 0.04\n",
    "print('value:', real_num)\n",
    "print('type:', type(real_num))"
   ]
  },
  {
   "cell_type": "markdown",
   "id": "93c666e1",
   "metadata": {},
   "source": [
    "### 실수 연산의 함정\n",
    "\n",
    "아래의 코드를 보면, 0.01을 100번 더하라는 간단한 계산 조차 정확하지 않은데 컴퓨터를 믿고 어떻게 계산을 맡길 수 있을까 고민하게 된다. 하지만 컴퓨터는 분명히 계산을 잘 했고, 그 결과를 잘 나타내었다."
   ]
  },
  {
   "cell_type": "code",
   "execution_count": 9,
   "id": "a95816e3",
   "metadata": {},
   "outputs": [
    {
     "data": {
      "text/plain": [
       "1.0000000000000007"
      ]
     },
     "execution_count": 9,
     "metadata": {},
     "output_type": "execute_result"
    }
   ],
   "source": [
    "a = 0.01\n",
    "result = 0.0\n",
    "for i in range(100):\n",
    "    result += a\n",
    "\n",
    "result"
   ]
  },
  {
   "cell_type": "markdown",
   "id": "630a4042",
   "metadata": {},
   "source": [
    "앞선 예제 보다 조금 더 복잡한 수인 0.015625를 100번 더하면 의도한 대로 정확한 결괏값이 나온다. **이 결과를 이해하려면 컴퓨터가 실수를 표현하는 방법인 부동소수점**에 대해 이해해야 한다."
   ]
  },
  {
   "cell_type": "code",
   "execution_count": 10,
   "id": "b8cfa490",
   "metadata": {},
   "outputs": [
    {
     "data": {
      "text/plain": [
       "1.5625"
      ]
     },
     "execution_count": 10,
     "metadata": {},
     "output_type": "execute_result"
    }
   ],
   "source": [
    "a = 0.015625\n",
    "result = 0.0\n",
    "for i in range(100):\n",
    "    result += a\n",
    "\n",
    "result"
   ]
  },
  {
   "cell_type": "markdown",
   "id": "d7575bee",
   "metadata": {},
   "source": [
    "### 부동소수점\n",
    "\n",
    "컴퓨터는 IEEE(Institute of Electrical and Electronics Engineers, 전기전자기술자협회)가 1985년에 제정한 표준에 따라 실수를 표현한다. 이 표준에 따른 표현법을 부동소수점이라고 부르는데, 여기서 '부'는 부표를 말할 때 쓰는 '부'로 둥둥 떠다닌다는 의미이다. \n",
    "\n",
    "아래는 실수 123.456을 여러 가지 방식으로 표현한 것인데, 소수점 위치를 보면 앞에 있기도 하고 뒤에 있기도 하다. 마치 소수점이 떠다니는 것처럼 보인다고 해서 부동소수점이라고 한다.\n",
    "\n",
    "```\n",
    "1.23456 * 10*10\n",
    "12.3456 * 10\n",
    "1234.56 * 1/10\n",
    "12345.6 * 1/100\n",
    "```"
   ]
  },
  {
   "cell_type": "markdown",
   "id": "31d201b8",
   "metadata": {},
   "source": [
    "### 단정도와 배정도\n",
    "\n",
    "부동소수점에는 단정도 부동소수점과 배정도 부동소수점이 있다. \n",
    "\n",
    "#### 단정도\n",
    "단정도(single-precision)는 실수를 32비트(4바이트)로 표현하며 부호 1비트, 지수부 8비트, 가수부 23비트로 구성된다\n",
    "\n",
    "#### 배정도\n",
    "배정도(double-precision)는 실수를 64비트(4바이트)로 표현하며 부호 1비트, 지수부 11비트, 가수부 52비트로 구성된다. 실수를 표현하는데 사용하는 비트 수가 단정도보다 두 배 많은 만큼 정밀도가 높은데, 파이썬은 배정도를 사용한다."
   ]
  },
  {
   "cell_type": "code",
   "execution_count": 26,
   "id": "c349da40",
   "metadata": {},
   "outputs": [
    {
     "data": {
      "text/plain": [
       "sys.float_info(max=1.7976931348623157e+308, max_exp=1024, max_10_exp=308, min=2.2250738585072014e-308, min_exp=-1021, min_10_exp=-307, dig=15, mant_dig=53, epsilon=2.220446049250313e-16, radix=2, rounds=1)"
      ]
     },
     "execution_count": 26,
     "metadata": {},
     "output_type": "execute_result"
    }
   ],
   "source": [
    "# sys라는 모듈을 임포트한 다음 float_info를 입력하면 최댓값, 최솟값, 정밀도 등을 확인할 수 있다.\n",
    "import sys\n",
    "sys.float_info"
   ]
  },
  {
   "cell_type": "code",
   "execution_count": 28,
   "id": "76a635b8",
   "metadata": {},
   "outputs": [
    {
     "data": {
      "text/plain": [
       "1.7976931348623157e+308"
      ]
     },
     "execution_count": 28,
     "metadata": {},
     "output_type": "execute_result"
    }
   ],
   "source": [
    "# 배정도 부동소수점으로 표현할 수 있는 가장 큰 수\n",
    "sys.float_info.max"
   ]
  },
  {
   "cell_type": "code",
   "execution_count": 29,
   "id": "b2832dec",
   "metadata": {},
   "outputs": [
    {
     "data": {
      "text/plain": [
       "2.2250738585072014e-308"
      ]
     },
     "execution_count": 29,
     "metadata": {},
     "output_type": "execute_result"
    }
   ],
   "source": [
    "# 배정도 부동소수점으로 표현할 수 있는 가장 작은 수\n",
    "sys.float_info.min"
   ]
  },
  {
   "cell_type": "markdown",
   "id": "06bda1a6",
   "metadata": {},
   "source": [
    "여기서 e는 지수를 뜻하는 exponent의 줄임말로 지수만 봐도 10의 308승이니 엄청나게 큰 수란 것을 확인할 수 있다.  \n",
    "8바이트 배정도 부동소수점을 활용하면 표현 범위가 엄청나게 넓어진다."
   ]
  },
  {
   "cell_type": "markdown",
   "id": "0245871b",
   "metadata": {},
   "source": [
    "### 1바이트 실수 자료형 설계\n",
    "\n",
    "실수 표현 방식을 이해하기 위해 1바이트 실수 자료형을 표현한 수식.  \n",
    "1.man(mantissa/fraction)은 가수, 2는 밑수, exp-bias는 지수(exponent)를 의미\n",
    "\n",
    "<img src=\"https://user-images.githubusercontent.com/60806840/132405132-f5f978cf-e342-4ecb-85bf-e1de9664a7de.png\" align=\"left\" />"
   ]
  },
  {
   "cell_type": "markdown",
   "id": "ac3692ff",
   "metadata": {},
   "source": [
    "#### 10진수 실수를 2진수 실수로 바꾸기\n",
    "<img src=\"https://user-images.githubusercontent.com/60806840/132405347-6f596a55-47dc-4491-b272-e1fa45ddc4de.png\" align=\"left\" />"
   ]
  },
  {
   "cell_type": "markdown",
   "id": "54e10643",
   "metadata": {},
   "source": [
    "#### 정규화\n",
    "정규화란 소수점 왼쪽에 위치한 가수 부분을 밑수보다 작은 자연수가 되도록 만드는 것\n",
    "\n",
    "<img src=\"https://user-images.githubusercontent.com/60806840/132405363-0cacfe28-e4c4-4528-a656-56c44494f05e.png\" align=\"left\" />"
   ]
  },
  {
   "cell_type": "markdown",
   "id": "c6c7a1dc",
   "metadata": {},
   "source": [
    "#### 메모리 구조\n",
    "\n",
    "\n",
    "#### 1바이트 부동소수점\n",
    "- 실수 역시 정수와 마찬가지로 첫 번째 비트는 부호를 나타냄. 0이면 양수, 1이면 음수\n",
    "- 가운데 4비트는 지수부로 exp값\n",
    "- 맨 뒤 3비트는 가수부로 man값을 저장\n",
    "\n",
    "<img src=\"https://user-images.githubusercontent.com/60806840/132405327-f43a4361-ad8e-42a6-9d1f-18157909ebfb.png\" align=\"left\" />\n",
    "\n"
   ]
  },
  {
   "cell_type": "markdown",
   "id": "5eb07bd3",
   "metadata": {},
   "source": [
    "### 정밀도에 대한 고찰\n",
    "\n",
    "#### 앱실론\n",
    "\n",
    "실수 자료형에서 앱실론(epsilon)이란 1.0과 그 다음으로 표현 가능한 수 사이의 차이를 말한다."
   ]
  },
  {
   "cell_type": "code",
   "execution_count": 10,
   "id": "690e21e6",
   "metadata": {},
   "outputs": [
    {
     "data": {
      "text/plain": [
       "2.220446049250313e-16"
      ]
     },
     "execution_count": 10,
     "metadata": {},
     "output_type": "execute_result"
    }
   ],
   "source": [
    "import sys\n",
    "# 아래 코드는 sys 모듈에 있는 float_info의 epsilon을 출력한 결과\n",
    "sys.float_info.epsilon"
   ]
  },
  {
   "cell_type": "markdown",
   "id": "3c075eaa",
   "metadata": {},
   "source": [
    "#### 앱실론과 정밀도\n",
    "\n",
    "어떤 실수가 있을 때 앱실론을 이용하면 그 실수 다음에 표현할 수 있는 수를 알아낼 수 있다."
   ]
  },
  {
   "cell_type": "markdown",
   "id": "e40ebfdd",
   "metadata": {},
   "source": [
    "## 5. 문자와 문자열\n",
    "\n",
    "0과 1밖에 모르는 컴퓨터가 문자를 표현하는 방법"
   ]
  },
  {
   "cell_type": "markdown",
   "id": "3aaf134d",
   "metadata": {},
   "source": [
    "### 아스키 코드\n",
    "\n",
    "아스키는 대표적인 문자 인코딩 방식이다. 비트 일곱 개로 문자를 표현하며 문자를 총 128개까지 표현할 수 있다."
   ]
  },
  {
   "cell_type": "code",
   "execution_count": 20,
   "id": "c429ad11",
   "metadata": {},
   "outputs": [
    {
     "name": "stdout",
     "output_type": "stream",
     "text": [
      "b'A'\n",
      "65\n",
      "b'0'\n",
      "48\n"
     ]
    }
   ],
   "source": [
    "ch = 'A'\n",
    "bch = ch.encode()\n",
    "\n",
    "ch_0 = '0'\n",
    "bch_0 = ch_0.encode()\n",
    "\n",
    "print(bch)\n",
    "print(bch[0])\n",
    "print(bch_0)\n",
    "print(bch_0[0])"
   ]
  },
  {
   "cell_type": "markdown",
   "id": "e501a2c5",
   "metadata": {},
   "source": [
    "### 유니코드\n",
    "\n",
    "전 세계적으로 컴퓨터가 보급되고, 인터넷을 통해 세계 각국 사람들이 커뮤니케이션을 하면서 컴퓨터에서 쓸 수 있는 언어가 더 많이 필요해졌다. 이때 나온 해결 방법이 7비트로 표현한 문자를 16비트로 확장하는 것이었다. 7비트일 때는 128개 문자를 표현할 수 있지만 16비트로 확장하면 65,536개 문자를 표현할 수 있다. 여기에 더해 수 하나에 다시 문자 하나를 일대일로 대응한 새로운 표를 만들었는데, 이 테이블이 바로 유니코드이다."
   ]
  }
 ],
 "metadata": {
  "kernelspec": {
   "display_name": "Python 3 (ipykernel)",
   "language": "python",
   "name": "python3"
  },
  "language_info": {
   "codemirror_mode": {
    "name": "ipython",
    "version": 3
   },
   "file_extension": ".py",
   "mimetype": "text/x-python",
   "name": "python",
   "nbconvert_exporter": "python",
   "pygments_lexer": "ipython3",
   "version": "3.8.2"
  }
 },
 "nbformat": 4,
 "nbformat_minor": 5
}
