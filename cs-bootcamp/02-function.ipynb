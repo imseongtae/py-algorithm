{
 "cells": [
  {
   "cell_type": "markdown",
   "id": "e7ecf6ef",
   "metadata": {},
   "source": [
    "# function\n",
    "\n",
    "## Table of Contents\n",
    "1. [function](#function)\n",
    "1. [인자 전달 방식에 따른 분류](#2.-인자-전달-방식에-따른-분류)\n",
    "1. [call by value](#3.-call-by-value)\n",
    "1. [call by reference](#4.-call-by-reference)\n",
    "1. [lambda function](#5.-lambda-function)"
   ]
  },
  {
   "cell_type": "markdown",
   "id": "ae75d613",
   "metadata": {},
   "source": [
    "## 1. function\n",
    "\n",
    "### 배경지식\n",
    "\n",
    "함수의 작동 원리를 이해하려면 스택의 개념을 이해해야 한다. 스택은 접시 쌓기라고 생각하면 된다. 데이터를 저장할 때 차곡차곡 쌓아 올리고, 데이터를 꺼낼 때는 쌓인 접시 맨 위부터 차례차례 꺼낸다. 마지막에 들어온 데이터가 가장 먼저 나간다."
   ]
  },
  {
   "cell_type": "markdown",
   "id": "1a0032d8",
   "metadata": {},
   "source": [
    "### 전역 변수와 지역 변수"
   ]
  },
  {
   "cell_type": "code",
   "execution_count": 12,
   "id": "22740827",
   "metadata": {},
   "outputs": [
    {
     "name": "stdout",
     "output_type": "stream",
     "text": [
      "g_var = 10\n"
     ]
    }
   ],
   "source": [
    "# 전역 변수: 전체 영역에서 접근 가능\n",
    "g_var = 10\n",
    "\n",
    "def func():\n",
    "    # 함수 안에서 전역 변수에 접근\n",
    "    print('g_var = {}'.format(g_var))\n",
    "\n",
    "if __name__ == '__main__':\n",
    "    func()"
   ]
  },
  {
   "cell_type": "code",
   "execution_count": 15,
   "id": "33a34fae",
   "metadata": {},
   "outputs": [
    {
     "name": "stdout",
     "output_type": "stream",
     "text": [
      "g_var = 20 in function\n",
      "g_var = 10 in main\n"
     ]
    }
   ],
   "source": [
    "# 전역 변수: 전체 영역에서 접근 가능\n",
    "g_var = 10\n",
    "\n",
    "def func():\n",
    "    # 함수 안에서 지역 변수 생성 및 할당\n",
    "    g_var = 20\n",
    "    print('g_var = {} in function'.format(g_var))\n",
    "\n",
    "if __name__ == '__main__':\n",
    "    func()\n",
    "    print('g_var = {} in main'.format(g_var))"
   ]
  },
  {
   "cell_type": "markdown",
   "id": "ea299f2f",
   "metadata": {},
   "source": [
    "### 지역 변수\n",
    "\n",
    "파이썬에서 전역 변수에 접근하기 위해서는 global이라는 특별한 문법이 필요하다."
   ]
  },
  {
   "cell_type": "code",
   "execution_count": 17,
   "id": "65ed5104",
   "metadata": {},
   "outputs": [
    {
     "name": "stdout",
     "output_type": "stream",
     "text": [
      "g_var = 10 before\n",
      "g_var = 20 after\n"
     ]
    }
   ],
   "source": [
    "g_var = 10\n",
    "\n",
    "def func():\n",
    "    global g_var\n",
    "    g_var = 20\n",
    "\n",
    "if __name__ == '__main__':\n",
    "    print('g_var = {} before'.format(g_var))\n",
    "    func()\n",
    "    print('g_var = {} after'.format(g_var))"
   ]
  },
  {
   "cell_type": "markdown",
   "id": "39701a7e",
   "metadata": {},
   "source": [
    "### nonlocal 키워드\n",
    "\n",
    "중첩된 함수 관계에서 안쪽의 함수가 바깥쪽 함수의 지역변수에 접근하기 위해 사용하는 키워드"
   ]
  },
  {
   "cell_type": "code",
   "execution_count": 18,
   "id": "e394fc3d",
   "metadata": {},
   "outputs": [
    {
     "name": "stdout",
     "output_type": "stream",
     "text": [
      "1 2 3\n",
      "1 2 3 4 5\n"
     ]
    }
   ],
   "source": [
    "a = 1\n",
    "\n",
    "def outer():\n",
    "    b = 2\n",
    "    c = 3\n",
    "    print(a, b, c)\n",
    "    \n",
    "    def inner():\n",
    "        d = 4\n",
    "        e = 5\n",
    "        print(a, b, c, d, e)\n",
    "    inner()\n",
    "\n",
    "    \n",
    "if __name__ == '__main__':\n",
    "    outer()"
   ]
  },
  {
   "cell_type": "code",
   "execution_count": 21,
   "id": "67f1d5aa",
   "metadata": {},
   "outputs": [
    {
     "name": "stdout",
     "output_type": "stream",
     "text": [
      "locals in outer: a = 100, b = 3\n"
     ]
    }
   ],
   "source": [
    "def outer():\n",
    "    a = 2\n",
    "    b = 3\n",
    "    \n",
    "    def inner():\n",
    "        nonlocal a # outer 함수의 지역 변수 a에 대해 nonlocal 키워드로 접근하여 값을 100으로 변경\n",
    "        a = 100\n",
    "    inner()\n",
    "    \n",
    "    print('locals in outer: a = {}, b = {}'.format(a, b))\n",
    "\n",
    "if __name__ == '__main__':\n",
    "    outer()"
   ]
  },
  {
   "cell_type": "markdown",
   "id": "b80bc2a4",
   "metadata": {},
   "source": [
    "## 2. 인자 전달 방식에 따른 분류\n",
    "\n",
    "함수는 **인자(argument) 전달 방식**에 따라 크게 **값에 의한 전달(call by value)**과 **참조에 의한 전달(call by reference)**로 나누어진다. 파이썬은 값에 의한 전달과 참조에 의한 전달 방식을 이용하지 않으므로 두 가지 전달 방식을 파이썬으로 이해하기는 어려운 측면이 있다.\n",
    "\n",
    "**아래 예제는 C++로 진행*"
   ]
  },
  {
   "cell_type": "markdown",
   "id": "5b33e8d7",
   "metadata": {},
   "source": [
    "## 3. call by value\n",
    "\n",
    "인자(argument) 전달할 때 값을 복사해 전달하는 경우를 값에 의한 전달이라고 한다. 말 그대로 값을 복사할 뿐이다. \n",
    "\n",
    "\n",
    "- 아래 코드를 http://cpp.sh/ 에서 실행해보기"
   ]
  },
  {
   "cell_type": "markdown",
   "id": "63f88481",
   "metadata": {},
   "source": [
    "함수 안에서는 값이 변경되었지만 함수를 호출한 쪽에서는 값이 변경되지 않는다. 이는 함수에 `x`가 전달될 때 값에 의한 전달(call by value) 방식으로 전달되었기 때문이다.\n",
    "`change_value()` 함수 스택 프레임의 `x`와 `main()` 함수 스택 프레임의 `x`는 서로 다른 메모리 공간에 존재하는 서로 다른 변수이다. 값만 10으로 같은 뿐이다. \n",
    "\n",
    "*함수 호출에 따른 값의 변화 과정*\n",
    "\n",
    "<img src=\"https://user-images.githubusercontent.com/60806840/134291276-68ff23c2-3c1b-4b52-bbe3-87b25d5f6909.png\" align=\"left\" />\n",
    "\n",
    "\n"
   ]
  },
  {
   "cell_type": "markdown",
   "id": "fc45838c",
   "metadata": {},
   "source": [
    "```cpp\n",
    "// Example program\n",
    "#include <iostream>\n",
    "#include <string>\n",
    "using namespace std;\n",
    "\n",
    "void change_value(int x, int value)\n",
    "{\n",
    "    x = value;\n",
    "    cout << \"x: \" << x << \" in change_value\" << \"\\n\"; // x: 20 in change_value\n",
    "}\n",
    "\n",
    "int main()\n",
    "{\n",
    "    int x = 10;\n",
    "    change_value(x, 20);\n",
    "    cout << \"x: \" << x << \" in main\" << \"\\n\"; // x: 10 in main\n",
    "}\n",
    "```\n",
    "\n",
    "\n",
    "```bash\n",
    "# http://cpp.sh/에서 실행한 결과\n",
    "x: 20 in change_value\n",
    "x: 10 in main  \n",
    "```\n",
    "\n"
   ]
  },
  {
   "cell_type": "markdown",
   "id": "0b61cf61",
   "metadata": {},
   "source": [
    "### 스택 프레임\n",
    "\n",
    "함수가 호출될 때 메모리에는 스택 프레임이 생긴다. 스택 프레임은 함수의 메모리 공간을 말하며, 지역 변수가 존재하는 영역이다.\n",
    "스택 프레임은 스택 메모리 공간에 생기는데 이 공간 역시 스택 자료 구조의 작동 원리를 따른다.\n",
    "스택 프레임에는 함수를 호출한 다음 복귀할 주솟값 등 지역 변수 이외의 정보도 담고 있다.\n",
    "\n",
    "함수의 스택 프레임\n",
    "\n",
    "<img src=\"https://user-images.githubusercontent.com/60806840/134291296-d138f7d4-c090-42a5-a7a6-8326923ac887.png\" align=\"left\" />"
   ]
  },
  {
   "cell_type": "markdown",
   "id": "b0282d4b",
   "metadata": {},
   "source": [
    "`#5`에서 인자를 전달할 때 `main()` 함수 스택 프레임의 지역 변수인 `a`와 `b`를 전달한 것 같지만, 실제로는 `test()` 함수 스택 프레임의 지역 변수 `a`와 `b`에 값만 '복사'한다. 이를 값에 의한 전달(call by value)이라고 한다.\n",
    "\n",
    "```cpp\n",
    "// Example program\n",
    "#include <iostream>\n",
    "#include <string>\n",
    "using namespace std;\n",
    "\n",
    "int test(int a, int b);\n",
    "\n",
    "int main(void)\n",
    "{\n",
    "    int a = 10, b = 5;\n",
    "    int res = test(a, b); // #5\n",
    "    cout << \"result of test: \" << res << \"\\n\";\n",
    "    return 0;    \n",
    "}\n",
    "\n",
    "int test(int a, int b)\n",
    "{\n",
    "    int c = a + b;\n",
    "    int d = a - b;\n",
    "    return c + d;\n",
    "}\n",
    "```\n",
    "\n",
    "```bash\n",
    "# http://cpp.sh/에서 실행한 결과\n",
    "result of test: 20\n",
    "```"
   ]
  },
  {
   "cell_type": "markdown",
   "id": "a43ee167",
   "metadata": {},
   "source": [
    "## call by reference\n",
    "\n",
    "참조에 의한 전달 방식은 인자를 전달할 때 값을 전달하는 게 아니라 참조를 전달한다. 이를 통해 함수 호출을 통해 값을 바꿀 수 있다."
   ]
  },
  {
   "cell_type": "markdown",
   "id": "ac8747aa",
   "metadata": {},
   "source": [
    "```cpp\n",
    "#include <iostream>\n",
    "#include <string>\n",
    "using namespace std;\n",
    "\n",
    "// call by value의 예제 코드와 비교하면 int x가 int *x;로 바뀜\n",
    "void change_value(int *x, int value) // # 1\n",
    "{\n",
    "    // call by value의 예제와 비교하면 x = value가 *x = value;로 바뀜\n",
    "    *x = value; // # 2 dereference(역참조)\n",
    "    cout << \"x: \" << *x << \" in change_value\" << \"\\n\"; // x: 20 in change_value\n",
    "}\n",
    "\n",
    "int main(void)\n",
    "{\n",
    "    int x = 10; // # 3\n",
    "    // call by value의 예제 코드와 비교하면 x앞에 &연산자가 추가됨\n",
    "    change_value(&x, 20); // # 4\n",
    "    cout << \"x: \" << x << \" in main\" << \"\\n\"; // x: 20 in main\n",
    "    return 0;    \n",
    "}\n",
    "```\n",
    "\n",
    "\n",
    "```bash\n",
    "# http://cpp.sh/에서 실행한 결과\n",
    "x: 20 in change_value\n",
    "x: 20 in main\n",
    "```"
   ]
  },
  {
   "cell_type": "markdown",
   "id": "1befd01b",
   "metadata": {},
   "source": [
    "### 예제 해설\n",
    "\n",
    "**#4**에서 change_value의 인자로 `&x`를 전달하는데, 이는 `main()` 함수 스택 프레임의 변수 가 위치한 메모리 공간의 첫 번째 주솟값을 전달한다는 의미이다. 즉, 값 `10`을 전달한다는 게 아니라 데이터 `10`을 저장하고 있는 4바이트 공간(int형 자료형은 4바이트) 중 첫 번째 바이트의 주솟값을 전달한다.\n",
    "\n",
    "\n",
    "**#1**의 `change_value`의 매개변수 `int *x`는 포인터 변수를 의미한다. 포인터 변수도 다른 변수처럼 데이터를 저장하지만 단지 그 데이터가 메모리 주소일 뿐이다. `change_value` 함수 스택 프레임의 포인터 변수 `x`는 `&x`를 통해 **#4**에서 전달된 `main()` 함수 스택 프레임 안의 지역 변수 `x`의 주솟값을 저장한다.\n",
    "\n",
    "포인터 변수가 그 주솟값을 저장한다는 것은 `change_value` 스택 프레임 안에 있는 `int형 포인터 x`가 화살표를 따라 `main()` 함수의 지역 변수 `x`를 가리키는 것과 같은 의미이다. 가리킨다는 말은 다른 말로 풀면 참조이며, 이렇게 인자로 변수의 참조를 전달하는 방식을 참조에 의한 전달(call by reference)이라고 한다.\n",
    "\n",
    "**#2**에서 `*x`를 역참조(dereference)라고 하며, `x`에 저장된 주솟값으로 접근한다. 이후 `value`를 대입하면, `main()` 함수의 지역 변수 `x`가 있는 메모리 공간에 `value`값을 대입할 수 있다. \n",
    "\n",
    "call by value의 예제 코드와 비교하면 **main() 함수 안의 지역 변수 값**(10 => 20)이 바뀜"
   ]
  },
  {
   "cell_type": "markdown",
   "id": "090d4036",
   "metadata": {},
   "source": [
    "## 객체 참조에 의한 전달\n",
    "\n",
    "파이썬은 객체 참조의 의한 전달(call by object reference)이라는 특별한 방식으로 인자를 전달한다."
   ]
  },
  {
   "cell_type": "markdown",
   "id": "f1928ec1",
   "metadata": {},
   "source": [
    "### 변경 불가능한 객체를 전달할 때"
   ]
  },
  {
   "cell_type": "code",
   "execution_count": 6,
   "id": "9565acd4",
   "metadata": {},
   "outputs": [
    {
     "name": "stdout",
     "output_type": "stream",
     "text": [
      "x: 20 in change_value\n",
      "x: 10 in main\n"
     ]
    }
   ],
   "source": [
    "def change_value(x, value):  # 3\n",
    "    x = value                # 4\n",
    "    print(\"x: {} in change_value\".format(x))\n",
    "    \n",
    "if __name__ == \"__main__\":\n",
    "    x = 10                   # 1\n",
    "    change_value(x, 20)      # 2\n",
    "    print(\"x: {} in main\".format(x))"
   ]
  },
  {
   "cell_type": "markdown",
   "id": "7f18a942",
   "metadata": {},
   "source": [
    "### 변경 불가능한 객체를 전달할 때에 대해 해설\n",
    "\n",
    "***파이썬의 변수는 C언어처럼 변수라는 메모리 공간에 값을 직접 저장하지 않는다.**\n",
    "\n",
    "**#2**에서 `change_value()`함수를 호출하면서 인자로 #1의 `x`를 전달하면, `change_value()` 함수의 스택 프레임이 생성되면서 **#3**의 인자 `x`는 함수를 호출한 영역에 있는 **#1**의 `x`를 참조한다. 파이썬은 참조에 의한 전달 방식을 쓰는 것처럼 보이지만 출력 결과는 이와 다르다. 함수 스택 프레임 안에서는 `x`값이 변경 되었지만, 함수를 호출한 쪽에서는 `x`값이 변경되지 않았다.\n",
    "\n",
    "상수 객체는 변경 불가능한 객체이다. 변수 값을 바꾼다는 의미는 변수 이름이 가리키는 메모리 공간의 값을 직접 바꾸는 게 아니라 바꾸고자 하는 상수 객체를 참조하는 것이다. **#4**는 `x`가 아니라 `value`가 가리키는 상수 객체를 참조하게 되는 코드이다. "
   ]
  },
  {
   "cell_type": "markdown",
   "id": "f95fce06",
   "metadata": {},
   "source": [
    "### 변경 가능한 객체를 전달할 때"
   ]
  },
  {
   "cell_type": "code",
   "execution_count": 14,
   "id": "acc7cc80",
   "metadata": {},
   "outputs": [
    {
     "name": "stdout",
     "output_type": "stream",
     "text": [
      "['I am your father!', 2, 3, 4]\n"
     ]
    }
   ],
   "source": [
    "# 예제. 1\n",
    "# 변경 가능한 객체인 리스트를 인자로 전달한 경우\n",
    "def func(li):\n",
    "    li[0] = 'I am your father!' # 1\n",
    "\n",
    "if __name__ == '__main__':\n",
    "    li = [1, 2, 3, 4]\n",
    "    func(li)\n",
    "    print(li)"
   ]
  },
  {
   "cell_type": "code",
   "execution_count": 15,
   "id": "f4b44e97",
   "metadata": {},
   "outputs": [
    {
     "name": "stdout",
     "output_type": "stream",
     "text": [
      "[1, 2, 3, 4]\n"
     ]
    }
   ],
   "source": [
    "# 예제. 2\n",
    "def func(li):\n",
    "    li = ['I am your father!', 2, 3, 4] # 1\n",
    "\n",
    "if __name__ == '__main__':\n",
    "    li = [1, 2, 3, 4]\n",
    "    func(li)\n",
    "    print(li)"
   ]
  },
  {
   "cell_type": "markdown",
   "id": "b86967e4",
   "metadata": {},
   "source": [
    "### 변경 가능한 객체를 전달할 때에 대해 해설\n",
    "\n",
    "위의 예제는 각각 아래와 같은 상황에 대한 예제이다.\n",
    "- 예제1: 참조한 리스트에 접근해 변경\n",
    "- 예제2: 아예 다른 리스트를 메모리 공간에 새로 만들어 참조하고, 리스트를 변경\n",
    "\n",
    "**예제1**의 `func` 스택 프레임의 `li`와 `main` 스택 프레임의 `li`는 모두 같은 메모리 공간을 참조한다. 튜플과 달리 리스트는 변경 가능한 객체이므로 리스트의 첫 번째 요소 값을 변경할 때 **값 객체만 새로운 공간에 만들어 참조하면 된다. 즉, 값을 변경하기 위해 리스트 자체를 다른 메모리 공간에 새로 할당할 필요가 없다.**\n",
    "\n",
    "**예제2**에서는 다른 메모리 공간에 새로운 리스트를 만들어 `li`로 참조했다. 요소를 바꾸지 않고, 리스트 자체를 변경한 까닭에 함수 호출이 끝나면 `func` 스택 프레임이 사라지면서 새로 만들어진 리스트는 삭제된다. 다른 메모리 공간에 새로운 리스트를 만든 까닭에 `main` 스택 프레임의 `li`와는 아무 관계가 없다.\n",
    "\n",
    "**예제 2의 스택 프레임*\n",
    "\n",
    "<img src=\"https://user-images.githubusercontent.com/60806840/134641887-1fc84e57-184d-4924-9b50-97a70d864dcf.png\" align=\"left\" />"
   ]
  },
  {
   "cell_type": "markdown",
   "id": "538cd050",
   "metadata": {},
   "source": [
    "## 5. lambda function\n",
    "\n",
    "람다 함수는 이름이 없는 함수이다. 이 때문에 다음 행으로 넘어가면 다시 사용할 수 없다. 자주 사용하지 않을 함수가 필요할 때 람다 함수를 만들어 사용한다."
   ]
  },
  {
   "cell_type": "code",
   "execution_count": 24,
   "id": "f1cf7e03",
   "metadata": {},
   "outputs": [
    {
     "data": {
      "text/plain": [
       "[1, 2, 3, 4, 5, 6, 7, 8, 9, 10]"
      ]
     },
     "execution_count": 24,
     "metadata": {},
     "output_type": "execute_result"
    }
   ],
   "source": [
    "li = [i for i in range(1, 11)]\n",
    "li"
   ]
  },
  {
   "cell_type": "code",
   "execution_count": 27,
   "id": "ee210cce",
   "metadata": {},
   "outputs": [
    {
     "data": {
      "text/plain": [
       "[1, 3, 5, 7, 9, 2, 4, 6, 8, 10]"
      ]
     },
     "execution_count": 27,
     "metadata": {},
     "output_type": "execute_result"
    }
   ],
   "source": [
    "li.sort(key = lambda x: x % 2 == 0)\n",
    "li"
   ]
  },
  {
   "cell_type": "markdown",
   "id": "964d38c7",
   "metadata": {},
   "source": [
    "람다 함수를 변수로 받으면 함수 정의를 한 것처럼 사용할 수 있다."
   ]
  },
  {
   "cell_type": "code",
   "execution_count": 32,
   "id": "87633ce5",
   "metadata": {},
   "outputs": [
    {
     "name": "stdout",
     "output_type": "stream",
     "text": [
      "f(2): 4\n",
      "f(5): 25\n"
     ]
    }
   ],
   "source": [
    "f = lambda x: x ** 2\n",
    "\n",
    "print('f(2):', f(2))\n",
    "print('f(5):', f(5))"
   ]
  }
 ],
 "metadata": {
  "kernelspec": {
   "display_name": "Python 3 (ipykernel)",
   "language": "python",
   "name": "python3"
  },
  "language_info": {
   "codemirror_mode": {
    "name": "ipython",
    "version": 3
   },
   "file_extension": ".py",
   "mimetype": "text/x-python",
   "name": "python",
   "nbconvert_exporter": "python",
   "pygments_lexer": "ipython3",
   "version": "3.9.7"
  },
  "toc": {
   "base_numbering": 1,
   "nav_menu": {},
   "number_sections": true,
   "sideBar": true,
   "skip_h1_title": false,
   "title_cell": "Table of Contents",
   "title_sidebar": "Contents",
   "toc_cell": false,
   "toc_position": {},
   "toc_section_display": true,
   "toc_window_display": true
  }
 },
 "nbformat": 4,
 "nbformat_minor": 5
}
