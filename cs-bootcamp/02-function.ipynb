{
 "cells": [
  {
   "cell_type": "markdown",
   "id": "db374d2b",
   "metadata": {},
   "source": [
    "# function\n",
    "\n",
    "## table of contents\n",
    "1. [function](#function)\n",
    "1. [인자 전달 방식에 따른 분류](#2.-인자-전달-방식에-따른-분류)\n",
    "1. [call by value](#3.-call-by-value)\n",
    "1. [lambda function](#5.-lambda-function)"
   ]
  },
  {
   "cell_type": "markdown",
   "id": "c3b29d3e",
   "metadata": {},
   "source": [
    "## 1. function\n",
    "\n",
    "### 배경지식\n",
    "\n",
    "함수의 작동 원리를 이해하려면 스택의 개념을 이해해야 한다. 스택은 접시 쌓기라고 생각하면 된다. 데이터를 저장할 때 차곡차곡 쌓아 올리고, 데이터를 꺼낼 때는 쌓인 접시 맨 위부터 차례차례 꺼낸다. 마지막에 들어온 데이터가 가장 먼저 나간다."
   ]
  },
  {
   "cell_type": "markdown",
   "id": "5d474b91",
   "metadata": {},
   "source": [
    "### 전역 변수와 지역 변수"
   ]
  },
  {
   "cell_type": "code",
   "execution_count": 12,
   "id": "01ea6aa2",
   "metadata": {},
   "outputs": [
    {
     "name": "stdout",
     "output_type": "stream",
     "text": [
      "g_var = 10\n"
     ]
    }
   ],
   "source": [
    "# 전역 변수: 전체 영역에서 접근 가능\n",
    "g_var = 10\n",
    "\n",
    "def func():\n",
    "    # 함수 안에서 전역 변수에 접근\n",
    "    print('g_var = {}'.format(g_var))\n",
    "\n",
    "if __name__ == '__main__':\n",
    "    func()"
   ]
  },
  {
   "cell_type": "code",
   "execution_count": 15,
   "id": "2edd70ba",
   "metadata": {},
   "outputs": [
    {
     "name": "stdout",
     "output_type": "stream",
     "text": [
      "g_var = 20 in function\n",
      "g_var = 10 in main\n"
     ]
    }
   ],
   "source": [
    "# 전역 변수: 전체 영역에서 접근 가능\n",
    "g_var = 10\n",
    "\n",
    "def func():\n",
    "    # 함수 안에서 지역 변수 생성 및 할당\n",
    "    g_var = 20\n",
    "    print('g_var = {} in function'.format(g_var))\n",
    "\n",
    "if __name__ == '__main__':\n",
    "    func()\n",
    "    print('g_var = {} in main'.format(g_var))"
   ]
  },
  {
   "cell_type": "markdown",
   "id": "1fa54150",
   "metadata": {},
   "source": [
    "### 지역 변수\n",
    "\n",
    "파이썬에서 전역 변수에 접근하기 위해서는 global이라는 특별한 문법이 필요하다."
   ]
  },
  {
   "cell_type": "code",
   "execution_count": 17,
   "id": "73f990ad",
   "metadata": {},
   "outputs": [
    {
     "name": "stdout",
     "output_type": "stream",
     "text": [
      "g_var = 10 before\n",
      "g_var = 20 after\n"
     ]
    }
   ],
   "source": [
    "g_var = 10\n",
    "\n",
    "def func():\n",
    "    global g_var\n",
    "    g_var = 20\n",
    "\n",
    "if __name__ == '__main__':\n",
    "    print('g_var = {} before'.format(g_var))\n",
    "    func()\n",
    "    print('g_var = {} after'.format(g_var))"
   ]
  },
  {
   "cell_type": "markdown",
   "id": "4e7f414b",
   "metadata": {},
   "source": [
    "### nonlocal 키워드"
   ]
  },
  {
   "cell_type": "code",
   "execution_count": 18,
   "id": "6d3a9ac0",
   "metadata": {},
   "outputs": [
    {
     "name": "stdout",
     "output_type": "stream",
     "text": [
      "1 2 3\n",
      "1 2 3 4 5\n"
     ]
    }
   ],
   "source": [
    "a = 1\n",
    "\n",
    "def outer():\n",
    "    b = 2\n",
    "    c = 3\n",
    "    print(a, b, c)\n",
    "    \n",
    "    def inner():\n",
    "        d = 4\n",
    "        e = 5\n",
    "        print(a, b, c, d, e)\n",
    "    inner()\n",
    "\n",
    "    \n",
    "if __name__ == '__main__':\n",
    "    outer()"
   ]
  },
  {
   "cell_type": "code",
   "execution_count": 21,
   "id": "bd2797ea",
   "metadata": {},
   "outputs": [
    {
     "name": "stdout",
     "output_type": "stream",
     "text": [
      "locals in outer: a = 100, b = 3\n"
     ]
    }
   ],
   "source": [
    "def outer():\n",
    "    a = 2\n",
    "    b = 3\n",
    "    \n",
    "    def inner():\n",
    "        nonlocal a # outer 함수의 지역 변수 a에 대해 nonlocal 키워드로 접근하여 값을 100으로 변경\n",
    "        a = 100\n",
    "    inner()\n",
    "    \n",
    "    print('locals in outer: a = {}, b = {}'.format(a, b))\n",
    "\n",
    "if __name__ == '__main__':\n",
    "    outer()"
   ]
  },
  {
   "cell_type": "markdown",
   "id": "bb45e60a",
   "metadata": {},
   "source": [
    "## 2. 인자 전달 방식에 따른 분류\n",
    "\n",
    "함수는 인자(argument) 전달 방식에 따라 크게 값에 의한 전달(call by value)과 참조에 의한 전달(call by reference)로 나누어진다. 파이썬은 값에 의한 전달과 참조에 의한 전달 방식을 이용하지 않으므로 두 가지 전달 방식을 파이썬으로 이해하기는 어려운 측면이 있다."
   ]
  },
  {
   "cell_type": "markdown",
   "id": "1d5fba8b",
   "metadata": {},
   "source": [
    "## 3. call by value\n",
    "\n",
    "인자(argument) 전달할 때 값을 복사해 전달하는 경우를 값에 의한 전달이라고 한다. 말 그대로 값을 복사할 뿐이다. "
   ]
  },
  {
   "cell_type": "markdown",
   "id": "6e586e4d",
   "metadata": {},
   "source": [
    "## 5. lambda function\n",
    "\n",
    "람다 함수는 이름이 없는 함수이다. 이 때문에 다음 행으로 넘어가면 다시 사용할 수 없다. 자주 사용하지 않을 함수가 필요할 때 람다 함수를 만들어 사용한다."
   ]
  },
  {
   "cell_type": "code",
   "execution_count": 24,
   "id": "d9ce9d7b",
   "metadata": {},
   "outputs": [
    {
     "data": {
      "text/plain": [
       "[1, 2, 3, 4, 5, 6, 7, 8, 9, 10]"
      ]
     },
     "execution_count": 24,
     "metadata": {},
     "output_type": "execute_result"
    }
   ],
   "source": [
    "li = [i for i in range(1, 11)]\n",
    "li"
   ]
  },
  {
   "cell_type": "code",
   "execution_count": 27,
   "id": "56307cba",
   "metadata": {},
   "outputs": [
    {
     "data": {
      "text/plain": [
       "[1, 3, 5, 7, 9, 2, 4, 6, 8, 10]"
      ]
     },
     "execution_count": 27,
     "metadata": {},
     "output_type": "execute_result"
    }
   ],
   "source": [
    "li.sort(key = lambda x: x % 2 == 0)\n",
    "li"
   ]
  },
  {
   "cell_type": "markdown",
   "id": "2d3e26a8",
   "metadata": {},
   "source": [
    "람다 함수를 변수로 받으면 함수 정의를 한 것처럼 사용할 수 있다."
   ]
  },
  {
   "cell_type": "code",
   "execution_count": 32,
   "id": "9af445a6",
   "metadata": {},
   "outputs": [
    {
     "name": "stdout",
     "output_type": "stream",
     "text": [
      "f(2): 4\n",
      "f(5): 25\n"
     ]
    }
   ],
   "source": [
    "f = lambda x: x ** 2\n",
    "\n",
    "print('f(2):', f(2))\n",
    "print('f(5):', f(5))"
   ]
  }
 ],
 "metadata": {
  "kernelspec": {
   "display_name": "Python 3 (ipykernel)",
   "language": "python",
   "name": "python3"
  },
  "language_info": {
   "codemirror_mode": {
    "name": "ipython",
    "version": 3
   },
   "file_extension": ".py",
   "mimetype": "text/x-python",
   "name": "python",
   "nbconvert_exporter": "python",
   "pygments_lexer": "ipython3",
   "version": "3.8.2"
  }
 },
 "nbformat": 4,
 "nbformat_minor": 5
}
