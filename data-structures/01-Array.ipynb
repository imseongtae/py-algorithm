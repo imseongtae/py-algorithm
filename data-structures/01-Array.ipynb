{
 "cells": [
  {
   "cell_type": "markdown",
   "id": "1ba75bb5",
   "metadata": {},
   "source": [
    "# 꼭 알아둬야 할 자료구조: 배열(Array)"
   ]
  },
  {
   "cell_type": "markdown",
   "id": "f7cc061f",
   "metadata": {},
   "source": [
    "- 데이터를 나열하고, 각 데이터를 인덱스에 대응하도록 구성한 데이터 구조\n",
    "- 파이썬에서는 리스트 타입이 배열 기능을 제공하고 있음\n",
    "\n",
    "## table of contents\n",
    "1. [배열이 왜 필요할까?](#1.-배열이-왜-필요할까?)\n",
    "1. [파이썬과 C 언어의 배열 예제](#2.-파이썬과-C-언어의-배열-예제)\n",
    "1. [파이썬과 배열](#3.-파이썬과-배열)"
   ]
  },
  {
   "cell_type": "markdown",
   "id": "3fa29096",
   "metadata": {},
   "source": [
    "## 1. 배열이 왜 필요할까?\n",
    "- 같은 종류의 데이터를 효율적으로 관리하기 위해 사용\n",
    "- 같은 종류의 데이터를 순차적으로 저장\n",
    "\n",
    "### 배열의 장점\n",
    "- 빠른 접근 가능\n",
    "    \n",
    "### 배열의 단점\n",
    "- 추가/삭제가 쉽지 않음(데이터가 가변적인 경우에 데이터 공간을 생성하거나, 빈 공간을 삭제하는 등의 어려움 발생)\n",
    "- 미리 최대 길이를 지정해야 함"
   ]
  },
  {
   "cell_type": "markdown",
   "id": "ef8153ef",
   "metadata": {},
   "source": [
    "## 2. 파이썬과 C 언어의 배열 예제"
   ]
  },
  {
   "cell_type": "code",
   "execution_count": null,
   "id": "1ede6f13",
   "metadata": {},
   "outputs": [],
   "source": [
    "#include <stdio.h>\n",
    "int main(int argc, char * argv[])\n",
    "{\n",
    "    char country[3] = 'US';\n",
    "    printf(\"%c%c\\n\", country[0], country[1]);\n",
    "    printf(\"%s\\n\", country);\n",
    "    return 0;\n",
    "}"
   ]
  },
  {
   "cell_type": "code",
   "execution_count": 15,
   "id": "cdd45d32",
   "metadata": {},
   "outputs": [
    {
     "name": "stdout",
     "output_type": "stream",
     "text": [
      "US\n",
      "USA\n"
     ]
    }
   ],
   "source": [
    "country = 'US'\n",
    "print(country)\n",
    "\n",
    "country += 'A'\n",
    "print(country)"
   ]
  },
  {
   "cell_type": "markdown",
   "id": "4f975505",
   "metadata": {},
   "source": [
    "## 3. 파이썬과 배열"
   ]
  },
  {
   "cell_type": "code",
   "execution_count": 7,
   "id": "8372c6a6",
   "metadata": {},
   "outputs": [
    {
     "name": "stdout",
     "output_type": "stream",
     "text": [
      "one_dimensional: [1, 2, 3]\n",
      "two_dimensional: [[1, 2, 3], [4, 5, 6], [7, 8, 9]]\n"
     ]
    }
   ],
   "source": [
    "# 1차원 배열\n",
    "one_dimensional = [1,2,3]\n",
    "print('one_dimensional:', one_dimensional)\n",
    "\n",
    "# 2차원 배열\n",
    "two_dimensional = [[1,2,3,],[4,5,6],[7,8,9]]\n",
    "print('two_dimensional:',two_dimensional)\n"
   ]
  },
  {
   "cell_type": "markdown",
   "id": "7cd55fbb",
   "metadata": {},
   "source": [
    "### 연습\n",
    "\n",
    "```python\n",
    "two_dimensional = [[1, 2, 3], [4, 5, 6], [7, 8, 9]]\n",
    "```\n",
    "\n",
    "\n",
    "<div class=\"alert alert-block alert-warning\">\n",
    "<strong><font color=\"blue\" size=\"3em\">연습1: 위의 2차원 배열에서 9, 8, 7 을 순서대로 출력해보기</font></strong><br>\n",
    "</div>"
   ]
  },
  {
   "cell_type": "code",
   "execution_count": 33,
   "id": "2ba526c7",
   "metadata": {},
   "outputs": [
    {
     "name": "stdout",
     "output_type": "stream",
     "text": [
      "3\n",
      "2\n",
      "1\n",
      "6\n",
      "5\n",
      "4\n",
      "9\n",
      "8\n",
      "7\n"
     ]
    }
   ],
   "source": [
    "for arr in two_dimensional:\n",
    "    for i in range(len(arr)):\n",
    "        print(arr[2-i])"
   ]
  },
  {
   "cell_type": "code",
   "execution_count": 29,
   "id": "73180e3d",
   "metadata": {},
   "outputs": [
    {
     "name": "stdout",
     "output_type": "stream",
     "text": [
      "9\n",
      "7\n",
      "8\n"
     ]
    }
   ],
   "source": [
    "# print(two_dimensional[2][2], two_dimensional[2][1], two_dimensional[2][0])\n",
    "for i in range(0, 3):\n",
    "    print(two_dimensional[2][i - 1])"
   ]
  },
  {
   "cell_type": "markdown",
   "id": "5d62b2fc",
   "metadata": {},
   "source": [
    "<div class=\"alert alert-block alert-warning\">\n",
    "<strong><font color=\"blue\" size=\"3em\">연습2: dataset 리스트에서 전체 이름 안에 M 은 몇 번 나왔는지 빈도수 출력하기</font></div>"
   ]
  },
  {
   "cell_type": "code",
   "execution_count": 34,
   "id": "315b2027",
   "metadata": {},
   "outputs": [],
   "source": [
    "dataset = ['Braund, Mr. Owen Harris',\n",
    "'Cumings, Mrs. John Bradley (Florence Briggs Thayer)',\n",
    "'Heikkinen, Miss. Laina',\n",
    "'Futrelle, Mrs. Jacques Heath (Lily May Peel)',\n",
    "'Allen, Mr. William Henry',\n",
    "'Moran, Mr. James',\n",
    "'McCarthy, Mr. Timothy J',\n",
    "'Palsson, Master. Gosta Leonard',\n",
    "'Johnson, Mrs. Oscar W (Elisabeth Vilhelmina Berg)',\n",
    "'Nasser, Mrs. Nicholas (Adele Achem)',\n",
    "'Sandstrom, Miss. Marguerite Rut',\n",
    "'Bonnell, Miss. Elizabeth',\n",
    "'Saundercock, Mr. William Henry',\n",
    "'Andersson, Mr. Anders Johan',\n",
    "'Vestrom, Miss. Hulda Amanda Adolfina',\n",
    "'Hewlett, Mrs. (Mary D Kingcome) ',\n",
    "'Rice, Master. Eugene',\n",
    "'Williams, Mr. Charles Eugene',\n",
    "'Vander Planke, Mrs. Julius (Emelia Maria Vandemoortele)',\n",
    "'Masselmani, Mrs. Fatima',\n",
    "'Fynney, Mr. Joseph J',\n",
    "'Beesley, Mr. Lawrence',\n",
    "'McGowan, Miss. Anna \"Annie\"',\n",
    "'Sloper, Mr. William Thompson',\n",
    "'Palsson, Miss. Torborg Danira',\n",
    "'Asplund, Mrs. Carl Oscar (Selma Augusta Emilia Johansson)',\n",
    "'Emir, Mr. Farred Chehab',\n",
    "'Fortune, Mr. Charles Alexander',\n",
    "'Dwyer, Miss. Ellen \"Nellie\"',\n",
    "'Todoroff, Mr. Lalio']"
   ]
  },
  {
   "cell_type": "code",
   "execution_count": 42,
   "id": "8c49c1d0",
   "metadata": {},
   "outputs": [
    {
     "name": "stdout",
     "output_type": "stream",
     "text": [
      "38\n"
     ]
    }
   ],
   "source": [
    "counted_m = 0\n",
    "\n",
    "for data in dataset:\n",
    "    for char in data:\n",
    "        if char == 'M':\n",
    "            counted_m += 1\n",
    "\n",
    "print(counted_m)"
   ]
  }
 ],
 "metadata": {
  "kernelspec": {
   "display_name": "Python 3 (ipykernel)",
   "language": "python",
   "name": "python3"
  },
  "language_info": {
   "codemirror_mode": {
    "name": "ipython",
    "version": 3
   },
   "file_extension": ".py",
   "mimetype": "text/x-python",
   "name": "python",
   "nbconvert_exporter": "python",
   "pygments_lexer": "ipython3",
   "version": "3.8.2"
  }
 },
 "nbformat": 4,
 "nbformat_minor": 5
}
