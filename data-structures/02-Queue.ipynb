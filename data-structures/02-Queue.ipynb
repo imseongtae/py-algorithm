{
 "cells": [
  {
   "cell_type": "markdown",
   "id": "967cfda4",
   "metadata": {},
   "source": [
    "# Queue\n",
    "\n",
    "## table of contetns\n",
    "1. [큐 구조](#1.-큐-구조)\n",
    "1. [알아둘 용어](#2.-알아둘-용어)\n",
    "1. [파이선 queue 라이브러리 활용해서 큐 자료 구조 사용하기](#3.-파이선-queue-라이브러리-활용해서-큐-자료-구조-사용하기)\n",
    "1. [queue 연습](#4.-queue-연습)"
   ]
  },
  {
   "cell_type": "markdown",
   "id": "b71f42d6",
   "metadata": {},
   "source": [
    "## 1. 큐 구조\n",
    "- 줄을 서는 행위와 유사함\n",
    "- 가장 먼저 넣은 데이터를 가장 먼저 꺼낼 수 있는 구조\n",
    "  - 음식점에서 가장 먼저 줄을 선 사람이 가장 먼저 음식점에 입장하는 것과 동일\n",
    "  - FIFO(First-In, First-Out) 또는 LILO(Last-In, Last-Out) 방식으로 스택과 꺼내는 순서가 반대\n",
    "  \n",
    "<img src=\"https://www.fun-coding.org/00_Images/queue.png\" />\n",
    "\n",
    "\n",
    "> 출처: http://www.stoimen.com/blog/2012/06/05/computer-algorithms-stack-and-queue-data-structure/"
   ]
  },
  {
   "attachments": {},
   "cell_type": "markdown",
   "id": "76a6f673",
   "metadata": {},
   "source": [
    "## 2. 알아둘 용어\n",
    "- **Enqueue**: 큐에 데이터를 넣는 기능\n",
    "- **Dequeue**: 큐에서 데이터를 꺼내는 기능\n",
    "\n",
    "> Visualgo 사이트에서 **enqueue/dequeue** 시연해보며 이해하기 \n",
    "\n",
    "<img src=\"https://user-images.githubusercontent.com/60806840/131249912-0d8a10d7-ff4f-4744-b1e0-14c302b9ac65.png\">\n",
    "\n",
    "\n",
    "\n",
    "\n",
    "\n",
    "> 출처: https://visualgo.net/en/list"
   ]
  },
  {
   "cell_type": "markdown",
   "id": "74cefc58",
   "metadata": {},
   "source": [
    "## 3. 파이선 queue 라이브러리 활용해서 큐 자료 구조 사용하기"
   ]
  },
  {
   "cell_type": "markdown",
   "id": "36b14016",
   "metadata": {},
   "source": [
    "- queue 라이브러리에는 다양한 큐 구조로 Queue(), LifoQueue, PriorityQueue() 제공\n",
    "- **프로그램을 작성할 때 프로그램에 따라 적합한 자료 구조를 사용**\n",
    "    - Queue(): 가장 일반적인 큐 자료구조\n",
    "    - LifoQueue: 나중에 입력된 데이터가 먼저 출력되는 구조(스택 구조라고 보면 됨)\n",
    "    - PriorityQueue(): 데이터마다 우선순위를 넣어서, 우선순위가 높은 순으로 데이터 출력\n",
    "- **큐는 멀티태스킹을 위한 프로세스 스케쥴링 방식을 구현하기 위해 많이 사용됨(운영체제 참조)**\n",
    "    - 큐의 경우에는 장단점 보다(특별히 언급되는 장단점이 없음) 큐의 활용 예로 프로세스 스케쥴링 방식을 함께 이해하는 것이 좋음\n",
    "\n",
    "> 일반적인 큐(FIFO 정책) 이외에 다양한 정책이 적용된 큐들이 있음"
   ]
  },
  {
   "cell_type": "markdown",
   "id": "c012ca72",
   "metadata": {},
   "source": [
    "### 3.1 Queue()로 큐 만들기(가장 일반적인 큐, FIFO)"
   ]
  },
  {
   "cell_type": "code",
   "execution_count": 31,
   "id": "da6fe341",
   "metadata": {},
   "outputs": [],
   "source": [
    "import queue\n",
    "data_queue = queue.Queue()"
   ]
  },
  {
   "cell_type": "code",
   "execution_count": 32,
   "id": "d7f143d0",
   "metadata": {},
   "outputs": [],
   "source": [
    "data_queue.put('tesla')\n",
    "data_queue.put(710)"
   ]
  },
  {
   "cell_type": "code",
   "execution_count": 33,
   "id": "f4500a53",
   "metadata": {},
   "outputs": [
    {
     "data": {
      "text/plain": [
       "2"
      ]
     },
     "execution_count": 33,
     "metadata": {},
     "output_type": "execute_result"
    }
   ],
   "source": [
    "data_queue.qsize()"
   ]
  },
  {
   "cell_type": "code",
   "execution_count": 34,
   "id": "4b689e77",
   "metadata": {},
   "outputs": [
    {
     "data": {
      "text/plain": [
       "'tesla'"
      ]
     },
     "execution_count": 34,
     "metadata": {},
     "output_type": "execute_result"
    }
   ],
   "source": [
    "data_queue.get()"
   ]
  },
  {
   "cell_type": "code",
   "execution_count": 35,
   "id": "bd369c97",
   "metadata": {},
   "outputs": [
    {
     "data": {
      "text/plain": [
       "1"
      ]
     },
     "execution_count": 35,
     "metadata": {},
     "output_type": "execute_result"
    }
   ],
   "source": [
    "data_queue.qsize()"
   ]
  },
  {
   "cell_type": "code",
   "execution_count": 36,
   "id": "26a05322",
   "metadata": {},
   "outputs": [
    {
     "data": {
      "text/plain": [
       "710"
      ]
     },
     "execution_count": 36,
     "metadata": {},
     "output_type": "execute_result"
    }
   ],
   "source": [
    "data_queue.get()"
   ]
  },
  {
   "cell_type": "code",
   "execution_count": 37,
   "id": "deb31118",
   "metadata": {},
   "outputs": [
    {
     "data": {
      "text/plain": [
       "0"
      ]
     },
     "execution_count": 37,
     "metadata": {},
     "output_type": "execute_result"
    }
   ],
   "source": [
    "data_queue.qsize()"
   ]
  },
  {
   "cell_type": "markdown",
   "id": "0c0a08e5",
   "metadata": {},
   "source": [
    "### 3.2 LifoQueue()로 큐 만들기(LIFO)"
   ]
  },
  {
   "cell_type": "code",
   "execution_count": 38,
   "id": "9eed1e15",
   "metadata": {},
   "outputs": [],
   "source": [
    "import queue\n",
    "lifo_q = queue.LifoQueue()"
   ]
  },
  {
   "cell_type": "markdown",
   "id": "99c293e6",
   "metadata": {},
   "source": [
    "lifo_q.put('tesla')\n",
    "lifo_q.put(710)"
   ]
  },
  {
   "cell_type": "code",
   "execution_count": 41,
   "id": "d428fbc9",
   "metadata": {},
   "outputs": [
    {
     "data": {
      "text/plain": [
       "2"
      ]
     },
     "execution_count": 41,
     "metadata": {},
     "output_type": "execute_result"
    }
   ],
   "source": [
    "lifo_q.qsize()"
   ]
  },
  {
   "cell_type": "code",
   "execution_count": 43,
   "id": "f442dc1d",
   "metadata": {},
   "outputs": [
    {
     "data": {
      "text/plain": [
       "710"
      ]
     },
     "execution_count": 43,
     "metadata": {},
     "output_type": "execute_result"
    }
   ],
   "source": [
    "lifo_q.get()"
   ]
  },
  {
   "cell_type": "code",
   "execution_count": 44,
   "id": "ebb25624",
   "metadata": {},
   "outputs": [
    {
     "data": {
      "text/plain": [
       "1"
      ]
     },
     "execution_count": 44,
     "metadata": {},
     "output_type": "execute_result"
    }
   ],
   "source": [
    "lifo_q.qsize()"
   ]
  },
  {
   "cell_type": "code",
   "execution_count": 45,
   "id": "17af0511",
   "metadata": {},
   "outputs": [
    {
     "data": {
      "text/plain": [
       "'tesla'"
      ]
     },
     "execution_count": 45,
     "metadata": {},
     "output_type": "execute_result"
    }
   ],
   "source": [
    "lifo_q.get()"
   ]
  },
  {
   "cell_type": "code",
   "execution_count": 46,
   "id": "fca97ce2",
   "metadata": {},
   "outputs": [
    {
     "data": {
      "text/plain": [
       "0"
      ]
     },
     "execution_count": 46,
     "metadata": {},
     "output_type": "execute_result"
    }
   ],
   "source": [
    "lifo_q.qsize()"
   ]
  },
  {
   "cell_type": "markdown",
   "id": "e0cf06e5",
   "metadata": {},
   "source": [
    "### 3.3 PriorityQueue()로 큐 만들기"
   ]
  },
  {
   "cell_type": "code",
   "execution_count": 91,
   "id": "fdf0ff35",
   "metadata": {},
   "outputs": [],
   "source": [
    "import queue\n",
    "\n",
    "pq = queue.PriorityQueue()\n",
    "# (우선순위, 데이터)의 구조를 갖춘 튜플로 삽입"
   ]
  },
  {
   "cell_type": "code",
   "execution_count": 92,
   "id": "61f8e357",
   "metadata": {},
   "outputs": [],
   "source": [
    "pq.put((4, 'tesla'))\n",
    "pq.put((3, 'google'))\n",
    "pq.put((2, 'apple'))\n",
    "pq.put((1, 1))"
   ]
  },
  {
   "cell_type": "code",
   "execution_count": 93,
   "id": "e8e4d8ee",
   "metadata": {},
   "outputs": [
    {
     "data": {
      "text/plain": [
       "4"
      ]
     },
     "execution_count": 93,
     "metadata": {},
     "output_type": "execute_result"
    }
   ],
   "source": [
    "pq.qsize()"
   ]
  },
  {
   "cell_type": "code",
   "execution_count": 94,
   "id": "d29aea0f",
   "metadata": {},
   "outputs": [
    {
     "data": {
      "text/plain": [
       "(1, 1)"
      ]
     },
     "execution_count": 94,
     "metadata": {},
     "output_type": "execute_result"
    }
   ],
   "source": [
    "pq.get()"
   ]
  },
  {
   "cell_type": "code",
   "execution_count": 95,
   "id": "77435e23",
   "metadata": {},
   "outputs": [
    {
     "data": {
      "text/plain": [
       "(2, 'apple')"
      ]
     },
     "execution_count": 95,
     "metadata": {},
     "output_type": "execute_result"
    }
   ],
   "source": [
    "pq.get()"
   ]
  },
  {
   "cell_type": "code",
   "execution_count": 96,
   "id": "4cce942f",
   "metadata": {},
   "outputs": [
    {
     "data": {
      "text/plain": [
       "(3, 'google')"
      ]
     },
     "execution_count": 96,
     "metadata": {},
     "output_type": "execute_result"
    }
   ],
   "source": [
    "pq.get()"
   ]
  },
  {
   "cell_type": "code",
   "execution_count": 97,
   "id": "4bb35540",
   "metadata": {},
   "outputs": [
    {
     "data": {
      "text/plain": [
       "(4, 'tesla')"
      ]
     },
     "execution_count": 97,
     "metadata": {},
     "output_type": "execute_result"
    }
   ],
   "source": [
    "pq.get()"
   ]
  },
  {
   "cell_type": "markdown",
   "id": "966db1b5",
   "metadata": {},
   "source": [
    "## 4. queue 연습"
   ]
  },
  {
   "cell_type": "markdown",
   "id": "4e747361",
   "metadata": {},
   "source": [
    "### 연습1: 리스트 변수로 큐를 다루는 enqueue, dequeue 기능 구현하기"
   ]
  },
  {
   "cell_type": "code",
   "execution_count": 146,
   "id": "f3b8c71b",
   "metadata": {},
   "outputs": [
    {
     "name": "stdout",
     "output_type": "stream",
     "text": [
      "[]\n",
      "<class 'list'>\n"
     ]
    }
   ],
   "source": [
    "queue = list() \n",
    "# class 사용하여 구현하기\n",
    "\n",
    "print(queue)\n",
    "print(type(queue))\n",
    "\n",
    "def enqueue(data):\n",
    "    queue.append(data)\n",
    "    \n",
    "def dequeue():\n",
    "    result = queue[0]\n",
    "    del queue[0]\n",
    "    return result    "
   ]
  },
  {
   "cell_type": "code",
   "execution_count": 147,
   "id": "313cb54a",
   "metadata": {},
   "outputs": [],
   "source": [
    "# enqueue(1)\n",
    "# enqueue(2)\n",
    "# enqueue(3)\n",
    "\n",
    "for i in range(10):\n",
    "    enqueue(i)"
   ]
  },
  {
   "cell_type": "code",
   "execution_count": 148,
   "id": "2a45c80c",
   "metadata": {},
   "outputs": [
    {
     "data": {
      "text/plain": [
       "10"
      ]
     },
     "execution_count": 148,
     "metadata": {},
     "output_type": "execute_result"
    }
   ],
   "source": [
    "len(queue)"
   ]
  },
  {
   "cell_type": "code",
   "execution_count": 157,
   "id": "3ad4d0c4",
   "metadata": {},
   "outputs": [
    {
     "data": {
      "text/plain": [
       "8"
      ]
     },
     "execution_count": 157,
     "metadata": {},
     "output_type": "execute_result"
    }
   ],
   "source": [
    "dequeue()"
   ]
  }
 ],
 "metadata": {
  "kernelspec": {
   "display_name": "Python 3 (ipykernel)",
   "language": "python",
   "name": "python3"
  },
  "language_info": {
   "codemirror_mode": {
    "name": "ipython",
    "version": 3
   },
   "file_extension": ".py",
   "mimetype": "text/x-python",
   "name": "python",
   "nbconvert_exporter": "python",
   "pygments_lexer": "ipython3",
   "version": "3.8.2"
  }
 },
 "nbformat": 4,
 "nbformat_minor": 5
}
