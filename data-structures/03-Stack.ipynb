{
 "cells": [
  {
   "cell_type": "markdown",
   "id": "5f88028c",
   "metadata": {},
   "source": [
    "# Stack\n",
    "- 데이터를 제한적으로 접근할 수 있는 구조\n",
    "    - 한 쪽 끝에서만 자료를 넣거나 뺄 수 있는 구조\n",
    "- **가장 나중에 쌓은 데이터를 가장 먼저 빼낼 수 있는 구조**\n",
    "    - 큐: FIFO 정책\n",
    "    - 스택: LIFO 정책\n",
    "\n",
    "## table of contents\n",
    "1. [스택 구조](#1.-스택-구조)\n",
    "1. [스택 구조와 프로세스 스택](#2.-스택-구조와-프로세스-스택)\n",
    "1. [스택의 장단점](#3.-스택의-장단점)\n",
    "1. [파이썬 리스트 기능에서 제공하는 메서드로 스택 사용해보기](#4.-파이썬-리스트-기능에서-제공하는-메서드로-스택-사용해보기)\n",
    "1. [프로그래밍 연습](#5.-프로그래밍-연습)"
   ]
  },
  {
   "cell_type": "markdown",
   "id": "8e4ac443",
   "metadata": {},
   "source": [
    "## 1. 스택 구조\n",
    "\n",
    "- 스택은 LIFO(Last In, First Out) 또는 FILO(First In, Last Out) 데이터 관리 방식을 따름\n",
    "    - LIFO: 마지막에 넣은 데이터를 가장 먼저 추출하는 데이터 관리 정책\n",
    "    - FILO: 처음에 넣은 데이터를 가장 마지막에 추출하는 데이터 관리 정책\n",
    "- 대표적인 스택의 활용\n",
    "    - 컴퓨터 내부 프로세스 구조의 함수 작동 방식\n",
    "- 주요 기능\n",
    "    - push(): 데이터를 스택에 넣기\n",
    "    - pop(): 데이터를 스택에서 꺼내기\n",
    "\n",
    "***Visualgo 사이트에서 시연하며 이해하기(push/pop 만 클릭해보며)**: https://visualgo.net/en/list\n",
    "<img src=\"http://www.fun-coding.org/00_Images/stack.png\" />"
   ]
  },
  {
   "cell_type": "markdown",
   "id": "e19f1c04",
   "metadata": {},
   "source": [
    "## 2. 스택 구조와 프로세스 스택\n",
    "\n",
    "- 스택 구조는 프로세스 실행 구조의 가장 기본\n",
    "    - 함수 호출시 프로세스 실행 구조를 스택과 비교해서 이해 필요"
   ]
  },
  {
   "cell_type": "code",
   "execution_count": 7,
   "id": "d06d863e",
   "metadata": {},
   "outputs": [],
   "source": [
    "def recursion(num):\n",
    "    if num < 0:\n",
    "        print('ended')\n",
    "    else:\n",
    "        print(num)\n",
    "        recursion(num - 1)\n",
    "        print('returned', num)"
   ]
  },
  {
   "cell_type": "code",
   "execution_count": 8,
   "id": "fa04ae86",
   "metadata": {
    "scrolled": true
   },
   "outputs": [
    {
     "name": "stdout",
     "output_type": "stream",
     "text": [
      "4\n",
      "3\n",
      "2\n",
      "1\n",
      "0\n",
      "ended\n",
      "returned 0\n",
      "returned 1\n",
      "returned 2\n",
      "returned 3\n",
      "returned 4\n"
     ]
    }
   ],
   "source": [
    "recursion(4)"
   ]
  },
  {
   "cell_type": "markdown",
   "id": "91adc9eb",
   "metadata": {},
   "source": [
    "### Process Stack\n",
    "\n",
    "재귀를 통해 호출된 자기 함수는 Process Stack 구조에서 이전에 호출한 함수 위에 저장됨(스택의 구조)  \n",
    "**함수 위에 함수가 호출되면 스택과 같은 구조로 쌓이며, 종료 조건을 통해 맨 위 함수부터 순차적으로 종료됨. (LIFO)**\n",
    "\n",
    "<img src=\"https://user-images.githubusercontent.com/60806840/131250051-73137527-c1c2-49fd-8da7-2c8fff0154e6.png\" />\n",
    "\n",
    "값이 0보다 작을 경우 ended를 출력하며, 함수는 종료되고 호출된 스택이 삭제됨\n",
    "\n",
    "<img src=\"https://user-images.githubusercontent.com/60806840/131250077-2aa60db7-eefb-4acc-9561-2f4dbe6e174d.png\" />"
   ]
  },
  {
   "cell_type": "markdown",
   "id": "8d424f16",
   "metadata": {},
   "source": [
    "## 3. 스택의 장단점\n",
    "\n",
    "### 장점\n",
    "- 구조가 단순해서 구현이 쉽다.\n",
    "- 데이터 저장/읽기 속도가 빠르다.\n",
    "\n",
    "### 단점\n",
    "- 데이터 최대 개수를 미리 정해야 한다.\n",
    "    - 파이썬의 경우 재귀함수는 1000번까지만 호출이 가능함\n",
    "- 저장 공간의 낭비가 발생할 수 있음\n",
    "    - 미리 최대 갯수만큼 저장 공간을 확보해야 함\n",
    "    \n",
    "> 스택은 단순하고 빠른 성능을 위해 사용되므로, 보통 배열 구조를 활용해서 구현하는 것이 일반적임. 이 경우, 위에서 열거한 단점이 있을 수 있음"
   ]
  },
  {
   "cell_type": "markdown",
   "id": "6bd3722d",
   "metadata": {},
   "source": [
    "## 4. 파이썬 리스트 기능에서 제공하는 메서드로 스택 사용해보기\n",
    "- append, pop 메서드"
   ]
  },
  {
   "cell_type": "code",
   "execution_count": 13,
   "id": "959307cf",
   "metadata": {},
   "outputs": [],
   "source": [
    "stack = list()\n",
    "\n",
    "stack.append(1)\n",
    "stack.append(2)"
   ]
  },
  {
   "cell_type": "code",
   "execution_count": 14,
   "id": "99a1b40c",
   "metadata": {},
   "outputs": [
    {
     "data": {
      "text/plain": [
       "[1, 2]"
      ]
     },
     "execution_count": 14,
     "metadata": {},
     "output_type": "execute_result"
    }
   ],
   "source": [
    "stack"
   ]
  },
  {
   "cell_type": "code",
   "execution_count": 15,
   "id": "cbd47f90",
   "metadata": {},
   "outputs": [
    {
     "data": {
      "text/plain": [
       "2"
      ]
     },
     "execution_count": 15,
     "metadata": {},
     "output_type": "execute_result"
    }
   ],
   "source": [
    "stack.pop()"
   ]
  },
  {
   "cell_type": "code",
   "execution_count": 16,
   "id": "aa723e87",
   "metadata": {},
   "outputs": [
    {
     "name": "stdout",
     "output_type": "stream",
     "text": [
      "[1]\n"
     ]
    }
   ],
   "source": [
    "print(stack)"
   ]
  },
  {
   "cell_type": "markdown",
   "id": "8bb572db",
   "metadata": {},
   "source": [
    "## 5. 프로그래밍 연습"
   ]
  },
  {
   "cell_type": "markdown",
   "id": "f23f51ba",
   "metadata": {},
   "source": [
    "### 연습1: 리스트 변수로 스택을 다루는 pop, push 기능 구현해보기. (pop, push 함수 사용하지 않고 직접 구현해보기)"
   ]
  },
  {
   "cell_type": "code",
   "execution_count": 237,
   "id": "2cc3d635",
   "metadata": {},
   "outputs": [],
   "source": [
    "class Stack:\n",
    "    def __init__(self):\n",
    "        self.list = []\n",
    "    def length(self):\n",
    "        return len(self.list)\n",
    "    def push(self, item):\n",
    "        # StackList.list.append(item)\n",
    "        self.list.append(item)        \n",
    "    def pop(self):\n",
    "        result = self.list[len(self.list) - 1]\n",
    "        del self.list[-1] # list의 마자막 index\n",
    "        return result"
   ]
  },
  {
   "cell_type": "code",
   "execution_count": 238,
   "id": "f36dbb2c",
   "metadata": {},
   "outputs": [
    {
     "name": "stdout",
     "output_type": "stream",
     "text": [
      "[]\n"
     ]
    }
   ],
   "source": [
    "stack = Stack()\n",
    "\n",
    "print(stack.list)"
   ]
  },
  {
   "cell_type": "code",
   "execution_count": 239,
   "id": "ee2ed38b",
   "metadata": {
    "scrolled": true
   },
   "outputs": [
    {
     "name": "stdout",
     "output_type": "stream",
     "text": [
      "['hamburger', 'cheeseburger']\n",
      "2\n"
     ]
    }
   ],
   "source": [
    "stack.push('hamburger')\n",
    "stack.push('cheeseburger')\n",
    "\n",
    "print(stack.list)\n",
    "print(stack.length())"
   ]
  },
  {
   "cell_type": "code",
   "execution_count": 240,
   "id": "fff6f0cd",
   "metadata": {},
   "outputs": [
    {
     "name": "stdout",
     "output_type": "stream",
     "text": [
      "['hamburger']\n",
      "1\n",
      "hamburger\n"
     ]
    }
   ],
   "source": [
    "stack.pop() # pop 메서드를 통해 cheeseburger 데이터가 꺼내짐\n",
    "print(stack.list)\n",
    "print(stack.length())\n",
    "print(stack.pop())"
   ]
  }
 ],
 "metadata": {
  "kernelspec": {
   "display_name": "Python 3 (ipykernel)",
   "language": "python",
   "name": "python3"
  },
  "language_info": {
   "codemirror_mode": {
    "name": "ipython",
    "version": 3
   },
   "file_extension": ".py",
   "mimetype": "text/x-python",
   "name": "python",
   "nbconvert_exporter": "python",
   "pygments_lexer": "ipython3",
   "version": "3.8.2"
  }
 },
 "nbformat": 4,
 "nbformat_minor": 5
}
