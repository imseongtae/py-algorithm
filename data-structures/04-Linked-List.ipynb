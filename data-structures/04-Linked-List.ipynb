{
 "cells": [
  {
   "cell_type": "markdown",
   "id": "f8871b25",
   "metadata": {},
   "source": [
    "# Linked List\n",
    "\n",
    "## table of contents\n",
    "1. [Linked List 구조](#1.-Linked-List-구조)\n",
    "1. [Linked List 예](#2.-Linked-List-예)\n",
    "1. [Linked List의 장단점](#3.-Linked-List의-장단점)\n",
    "1. [Linked List 구현](#4.-Linked-List-구현)\n",
    "1. [다양한 Linked List](#5.-다양한-Linked-List)\n"
   ]
  },
  {
   "cell_type": "markdown",
   "id": "578c862c",
   "metadata": {},
   "source": [
    "## 1. Linked List 구조\n",
    "- 연결 리스트라고도 함\n",
    "- Linked List는 떨어진 곳에 존재하는 데이터를 화살표로 연결해서 관리하는 데이터 구조(배열은 순차적으로 연결된 공간에 데이터를 나열하는 구조)\n",
    "- 본래 C언어에서는 주요한 데이터 구조이지만, 파이썬은 리스트 타입이 연결 리스트의 기능을 모두 지원\n",
    "\n",
    "### 1-1. 기본 구조와 용어\n",
    "- 노드(Node): 데이터 저장 단위(데이터값, 포인터)로 구성\n",
    "- 포인터(Pointer): 각 노드 안에서 다음이나 이전의 노드와의 연결 정보를 가지고 있는 공간\n",
    "\n",
    "### 1-2. Linked List 형태\n",
    "<img src=\"https://www.fun-coding.org/00_Images/linkedlist.png\" />\n",
    "(출처: wikipedia, https://en.wikipedia.org/wiki/Linked_list)\n"
   ]
  },
  {
   "cell_type": "markdown",
   "id": "ad6dc1e3",
   "metadata": {},
   "source": [
    "## 2. Linked List 예"
   ]
  },
  {
   "cell_type": "markdown",
   "id": "83a9afbb",
   "metadata": {},
   "source": [
    "### 2-1. Node 구현\n",
    "- 보통 파이썬에서 연결 리스트 구현시, 파이썬 클래스를 활용함\n",
    "    - 이를 위해 파이썬 객체지향 문법에 대해 이해 필요\n",
    "    - 참고: https://www.fun-coding.org/PL&OOP1-3.html"
   ]
  },
  {
   "cell_type": "code",
   "execution_count": 2,
   "id": "694bf7fc",
   "metadata": {},
   "outputs": [],
   "source": [
    "class Node:\n",
    "    def __init__(self, data):\n",
    "        self.data = data\n",
    "        self.next = None"
   ]
  },
  {
   "cell_type": "code",
   "execution_count": 3,
   "id": "d42d0a2a",
   "metadata": {},
   "outputs": [],
   "source": [
    "class Node:\n",
    "    def __init__(self, data, next=None):\n",
    "        self.data = data\n",
    "        self.next = next        "
   ]
  },
  {
   "cell_type": "markdown",
   "id": "9704c4b1",
   "metadata": {},
   "source": [
    "### 2-2. Node와 Node 연결하기(포인터 활용)"
   ]
  },
  {
   "cell_type": "code",
   "execution_count": 5,
   "id": "77f54604",
   "metadata": {},
   "outputs": [],
   "source": [
    "node1 = Node(1)\n",
    "node2 = Node(2)\n",
    "node1.next = node2\n",
    "head = node1"
   ]
  },
  {
   "cell_type": "code",
   "execution_count": 11,
   "id": "1d06c673",
   "metadata": {},
   "outputs": [
    {
     "name": "stdout",
     "output_type": "stream",
     "text": [
      "head: <__main__.Node object at 0x106d63b20>\n",
      "node1: <__main__.Node object at 0x106d63b20>\n",
      "node1.next: <__main__.Node object at 0x106d634c0>\n",
      "node2: <__main__.Node object at 0x106d634c0>\n"
     ]
    }
   ],
   "source": [
    "print('head:', head)\n",
    "print('node1:', node1)\n",
    "print('node1.next:', node1.next)\n",
    "print('node2:', node2)"
   ]
  },
  {
   "cell_type": "markdown",
   "id": "f39b8994",
   "metadata": {},
   "source": [
    "### 2-3. Linked List로 데이터 추가하기"
   ]
  },
  {
   "cell_type": "code",
   "execution_count": 12,
   "id": "e4b93032",
   "metadata": {},
   "outputs": [],
   "source": [
    "class Node:\n",
    "    def __init__(self, data, next=None):\n",
    "        self.data = data\n",
    "        self.next = next\n",
    "        \n",
    "def add(data):\n",
    "    node = head\n",
    "    while node.next:\n",
    "        node = node.next\n",
    "    node.next = Node(data)"
   ]
  },
  {
   "cell_type": "code",
   "execution_count": 13,
   "id": "c8aea486",
   "metadata": {},
   "outputs": [],
   "source": [
    "node1 = Node(1)\n",
    "head = node1\n",
    "\n",
    "for i in range(1, 10):\n",
    "    add(i)"
   ]
  },
  {
   "cell_type": "markdown",
   "id": "088c0bb9",
   "metadata": {},
   "source": [
    "### 2-4 Linked List 데이터 출력하기(검색하기)"
   ]
  },
  {
   "cell_type": "code",
   "execution_count": 23,
   "id": "40642fc3",
   "metadata": {},
   "outputs": [
    {
     "name": "stdout",
     "output_type": "stream",
     "text": [
      "1\n",
      "1\n",
      "2\n",
      "3\n",
      "4\n",
      "5\n",
      "6\n",
      "7\n",
      "8\n",
      "last node: 9\n"
     ]
    }
   ],
   "source": [
    "node = head\n",
    "while node.next:\n",
    "    print(node.data)\n",
    "    node = node.next\n",
    "\n",
    "print('last node:', node.data)"
   ]
  },
  {
   "cell_type": "markdown",
   "id": "2208b44b",
   "metadata": {},
   "source": [
    "## 3. Linked List의 장단점\n",
    "**전통적인 C언어의 배열과 연결 리스트**\n",
    "\n",
    "### 장점\n",
    "- 데이터 공간을 미리 할당하지 않아도 됨\n",
    "- 반면, 배열은 데이터 공간을 미리 할당해야 함\n",
    "\n",
    "### 단점\n",
    "- 연결을 위한 별도 데이터 공간이 필요하므로, 저장 공간 효율이 높지 않음\n",
    "- 연결 정보를 찾는 시간이 필요하므로 접근 속도가 느림\n",
    "- 중간 데이터 삭제시, 앞뒤 데이터의 연결을 재구성해야 하는 부가적인 작업 필요"
   ]
  },
  {
   "cell_type": "markdown",
   "id": "0edee19d",
   "metadata": {},
   "source": [
    "## 4. Linked List 구현\n",
    "- 연결 리스트는 유지 관리에 부가적인 구현이 필요함\n",
    "\n",
    "<img src=\"https://www.fun-coding.org/00_Images/linkedlistadd.png\" />\n",
    "(출처: wikipedia, https://en.wikipedia.org/wiki/Linked_list)"
   ]
  },
  {
   "cell_type": "markdown",
   "id": "5d8959c8",
   "metadata": {},
   "source": [
    "### 4-1. Linked List 사이에 데이터 추가하는 기능"
   ]
  },
  {
   "cell_type": "code",
   "execution_count": 26,
   "id": "ccde95be",
   "metadata": {},
   "outputs": [
    {
     "name": "stdout",
     "output_type": "stream",
     "text": [
      "1\n",
      "1\n",
      "2\n",
      "3\n",
      "4\n",
      "5\n",
      "6\n",
      "7\n",
      "8\n",
      "last: 9\n"
     ]
    }
   ],
   "source": [
    "node = head\n",
    "while node.next:\n",
    "    print(node.data)\n",
    "    node = node.next\n",
    "print('last:', node.data)"
   ]
  },
  {
   "cell_type": "code",
   "execution_count": 30,
   "id": "01fdae21",
   "metadata": {},
   "outputs": [],
   "source": [
    "node3 = Node(2.5)"
   ]
  },
  {
   "cell_type": "code",
   "execution_count": 31,
   "id": "90c597d3",
   "metadata": {},
   "outputs": [],
   "source": [
    "node = head\n",
    "search = True\n",
    "while search:\n",
    "    if node.data == 2:\n",
    "        search = False\n",
    "    else:\n",
    "        node = node.next\n",
    "\n",
    "node_next = node.next\n",
    "node.next = node3\n",
    "node3.next = node_next"
   ]
  },
  {
   "cell_type": "code",
   "execution_count": 32,
   "id": "a9415aac",
   "metadata": {},
   "outputs": [
    {
     "name": "stdout",
     "output_type": "stream",
     "text": [
      "1\n",
      "1.5\n",
      "1\n",
      "2\n",
      "2.5\n",
      "3\n",
      "4\n",
      "5\n",
      "6\n",
      "7\n",
      "8\n",
      "9\n"
     ]
    }
   ],
   "source": [
    "node = head\n",
    "while node.next:\n",
    "    print(node.data)\n",
    "    node = node.next\n",
    "    \n",
    "print(node.data)"
   ]
  },
  {
   "cell_type": "markdown",
   "id": "0d395bc1",
   "metadata": {},
   "source": [
    "### 4-2. 파이썬 객체지향 프로그래밍으로 Linked List 구현하기"
   ]
  },
  {
   "cell_type": "code",
   "execution_count": 44,
   "id": "7efc60ba",
   "metadata": {},
   "outputs": [],
   "source": [
    "class Node:\n",
    "    def __init__(self, data, next=None):\n",
    "        self.data = data\n",
    "        self.next = next\n",
    "\n",
    "class NodeMgmt:\n",
    "    def __init__(self, data):\n",
    "        self.head = Node(data)\n",
    "\n",
    "    def add(self, data):\n",
    "        if self.head == '':\n",
    "            self.head = Node(data)\n",
    "        else:\n",
    "            node = self.head\n",
    "            while node.next:\n",
    "                node = node.next\n",
    "            node.next = Node(data)\n",
    "\n",
    "    def desc(self):\n",
    "        node = self.head\n",
    "        while node.next:\n",
    "            print(node.data)\n",
    "            node = node.next\n",
    "        print('last:', node.data)"
   ]
  },
  {
   "cell_type": "code",
   "execution_count": 45,
   "id": "61fd3a9f",
   "metadata": {},
   "outputs": [
    {
     "name": "stdout",
     "output_type": "stream",
     "text": [
      "last: 0\n"
     ]
    }
   ],
   "source": [
    "linked_list1 = NodeMgmt(0)\n",
    "linked_list1.desc()"
   ]
  },
  {
   "cell_type": "code",
   "execution_count": 46,
   "id": "16496988",
   "metadata": {},
   "outputs": [
    {
     "name": "stdout",
     "output_type": "stream",
     "text": [
      "0\n",
      "1\n",
      "2\n",
      "3\n",
      "4\n",
      "5\n",
      "6\n",
      "7\n",
      "8\n",
      "last: 9\n"
     ]
    }
   ],
   "source": [
    "for data in range(1, 10):\n",
    "    linked_list1.add(data)\n",
    "linked_list1.desc()"
   ]
  },
  {
   "cell_type": "markdown",
   "id": "3d019ee1",
   "metadata": {},
   "source": [
    "### 4.3 특정 노드 삭제"
   ]
  },
  {
   "cell_type": "code",
   "execution_count": 47,
   "id": "e728c537",
   "metadata": {},
   "outputs": [],
   "source": [
    "# example"
   ]
  },
  {
   "cell_type": "markdown",
   "id": "6d10e158",
   "metadata": {},
   "source": [
    "## 5. 다양한 Linked List\n",
    "\n",
    "\n",
    "### 5.1 Doubly Linked List\n",
    "- 이중 연결 리스트라고도 함\n",
    "- 장점: 양방향으로 연결되어 있어서 노드 탐색이 양쪽으로 모두 가능\n",
    "<br>\n",
    "<img src=\"https://www.fun-coding.org/00_Images/doublelinkedlist.png\" />\n",
    "(출처: wikipedia, https://en.wikipedia.org/wiki/Linked_list)"
   ]
  },
  {
   "cell_type": "code",
   "execution_count": null,
   "id": "c8373ca5",
   "metadata": {},
   "outputs": [],
   "source": []
  },
  {
   "cell_type": "code",
   "execution_count": null,
   "id": "91327d09",
   "metadata": {},
   "outputs": [],
   "source": []
  },
  {
   "cell_type": "code",
   "execution_count": null,
   "id": "39f43949",
   "metadata": {},
   "outputs": [],
   "source": []
  },
  {
   "cell_type": "code",
   "execution_count": null,
   "id": "e337b89f",
   "metadata": {},
   "outputs": [],
   "source": []
  },
  {
   "cell_type": "code",
   "execution_count": null,
   "id": "3d367c70",
   "metadata": {},
   "outputs": [],
   "source": []
  }
 ],
 "metadata": {
  "kernelspec": {
   "display_name": "Python 3 (ipykernel)",
   "language": "python",
   "name": "python3"
  },
  "language_info": {
   "codemirror_mode": {
    "name": "ipython",
    "version": 3
   },
   "file_extension": ".py",
   "mimetype": "text/x-python",
   "name": "python",
   "nbconvert_exporter": "python",
   "pygments_lexer": "ipython3",
   "version": "3.8.2"
  }
 },
 "nbformat": 4,
 "nbformat_minor": 5
}
