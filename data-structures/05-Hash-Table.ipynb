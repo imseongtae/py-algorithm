{
 "cells": [
  {
   "cell_type": "markdown",
   "id": "651724fc",
   "metadata": {},
   "source": [
    "# Hash Table\n",
    "\n",
    "## table of contents\n",
    "1. [Hash Table 구조](#1.-Hash-Table-구조)\n",
    "1. [알아둘 용어](#2.-알아둘-용어)\n",
    "1. [Hash Table Example](#3.-Hash-Table-Example)\n",
    "1. [Hash Table 장단점과 주요 용도](#4.-Hash-Table-장단점과-주요-용도)\n",
    "1. [프로그래밍 연습](#5.-프로그래밍-연습)"
   ]
  },
  {
   "cell_type": "markdown",
   "id": "05ee6ff0",
   "metadata": {},
   "source": [
    "## 1. Hash Table 구조\n",
    "\n",
    "### Hash Table\n",
    "**키(Key)에 데이터(Value)를 저장하는 데이터 구조**\n",
    "- Key를 통해 바로 데이터를 받아올 수 있으므로, 속도가 획기적으로 빨라짐\n",
    "- 파이썬 딕셔너리(Dictionary) 타입이 해쉬 테이블의 예: Key를 가지고 바로 데이터(Data)를 꺼냄\n",
    "- 보통 배열로 미리 Hash Table 사이즈만큼 생성 후에 사용(공간과 탐색 기간을 맞바꾸는 기법)\n",
    "- **단, 파이썬에서는 해쉬를 별도 구현할 이유가 없음 - 딕셔너리 타입을 사용하면 됨**"
   ]
  },
  {
   "cell_type": "markdown",
   "id": "660b56e4",
   "metadata": {},
   "source": [
    "## 2. 알아둘 용어\n",
    "- 해쉬(Hash): 임의 값을 고정 길이로 변환하는 것\n",
    "- 해쉬 테이블(Hash Table):키 값의 연산에 의해 적접 접근이 가능한 데이터 구조\n",
    "- 해싱 함수(Hashing Function): Key에 대해 산술 연산을 이용해 데이터 위치를 찾을 수 있는 함수\n",
    "- 해쉬 값(Hash Value) 또는 해쉬 주소(Hash Address): Key를 해싱 함수로 연산하여 해쉬 값을 알아내고, 이를 기반으로 해쉬 테이블에서 해당 Key에 대한 데이터의 위치를 일관성 있게 찾을 수 있음\n",
    "- 슬롯(Slot): 한 개의 데이터를 저장할 수 있는 공간\n",
    "- 저장할 데이터에 대해 Key를 추출할 수 있는 별도 함수가 존재할 수 있음\n",
    "\n",
    "<img src=\"https://www.fun-coding.org/00_Images/hash.png\" width=400 />"
   ]
  },
  {
   "cell_type": "markdown",
   "id": "2c8f4bcb",
   "metadata": {},
   "source": [
    "## 3. Hash Table Example"
   ]
  },
  {
   "cell_type": "markdown",
   "id": "90d9be7f",
   "metadata": {},
   "source": [
    "### 3.1 Hash Table 만들기\n",
    "- 참고: 파이썬 list comprehension - https://www.fun-coding.org/PL&OOP5-2.html"
   ]
  },
  {
   "cell_type": "code",
   "execution_count": 65,
   "id": "41f14d21",
   "metadata": {},
   "outputs": [
    {
     "data": {
      "text/plain": [
       "[0, 1, 2, 3, 4, 5, 6, 7, 8, 9]"
      ]
     },
     "execution_count": 65,
     "metadata": {},
     "output_type": "execute_result"
    }
   ],
   "source": [
    "hash_table = list([i for i in range(10)])\n",
    "hash_table"
   ]
  },
  {
   "cell_type": "markdown",
   "id": "e74bf245",
   "metadata": {},
   "source": [
    "### 3.2 간단한 Hash Function\n",
    "- 다양한 해쉬 함수 고안 기법이 있으며, 가장 간단한 방식이 Division 법(나누기를 통한 나머지 값을 사용하는 기법)"
   ]
  },
  {
   "cell_type": "code",
   "execution_count": 66,
   "id": "a832fea7",
   "metadata": {},
   "outputs": [],
   "source": [
    "def hash_func(key):\n",
    "    return key % 5"
   ]
  },
  {
   "cell_type": "markdown",
   "id": "ab9f92ba",
   "metadata": {},
   "source": [
    "### 3.3.1 해쉬 테이블에 저장\n",
    "- 데이터에 따라 필요시 Key 생성 방법 정의가 필요함"
   ]
  },
  {
   "cell_type": "code",
   "execution_count": 73,
   "id": "51c99af2",
   "metadata": {},
   "outputs": [
    {
     "name": "stdout",
     "output_type": "stream",
     "text": [
      "65 68 84\n",
      "65 0\n",
      "65 65\n"
     ]
    }
   ],
   "source": [
    "data1 = 'Andy'\n",
    "data2 = 'Dave'\n",
    "data3 = 'Trump'\n",
    "data4 = 'Anthor'\n",
    "## ord(): 문자의 ASCII (아스키) 코드 리턴\n",
    "print(ord(data1[0]), ord(data2[0]), ord(data3[0]))\n",
    "print(ord(data1[0]), hash_func(ord(data1[0])))\n",
    "print(ord(data1[0]), ord(data4[0]))\n"
   ]
  },
  {
   "cell_type": "markdown",
   "id": "37a73a30",
   "metadata": {},
   "source": [
    "### 3.3.2 해쉬 테이블 값 저장 예\n",
    "- data: value와 같이 data와 value를 넣으면, 해당 data에 대한 key에 대응한느 해쉬 주소에 value를 저장하는 예"
   ]
  },
  {
   "cell_type": "code",
   "execution_count": 75,
   "id": "40ed39a2",
   "metadata": {},
   "outputs": [],
   "source": [
    "def storage_data(data, value):\n",
    "    key = ord(data[0])\n",
    "    hash_address = hash_func(key)\n",
    "    hash_table[hash_address] = value"
   ]
  },
  {
   "cell_type": "markdown",
   "id": "5f78589a",
   "metadata": {},
   "source": [
    "### 3.4 해쉬 테이블에서 특정 주소의 데이터를 가져오는 함수"
   ]
  },
  {
   "cell_type": "code",
   "execution_count": 77,
   "id": "8fc8c3c9",
   "metadata": {},
   "outputs": [],
   "source": [
    "storage_data('Andy', '01055553333')\n",
    "storage_data('Dave', '01044443333')\n",
    "storage_data('Trump', '01022223333')"
   ]
  },
  {
   "cell_type": "markdown",
   "id": "9113d248",
   "metadata": {},
   "source": [
    "### 3.5 데이터를 저장하고 조회하기"
   ]
  },
  {
   "cell_type": "code",
   "execution_count": 78,
   "id": "5e8721cd",
   "metadata": {},
   "outputs": [],
   "source": [
    "def get_data(data):\n",
    "    key = ord(data[0])\n",
    "    hash_address = hash_func(key)\n",
    "    return hash_table[hash_address]"
   ]
  },
  {
   "cell_type": "code",
   "execution_count": 80,
   "id": "d42a9fdb",
   "metadata": {},
   "outputs": [
    {
     "data": {
      "text/plain": [
       "'01055553333'"
      ]
     },
     "execution_count": 80,
     "metadata": {},
     "output_type": "execute_result"
    }
   ],
   "source": [
    "get_data('Andy')"
   ]
  },
  {
   "cell_type": "markdown",
   "id": "8c45adf8",
   "metadata": {},
   "source": [
    "## 4. Hash Table 장단점과 주요 용도\n",
    "\n",
    "### 장점\n",
    "- 데이터 저장/읽기 속도가 빠름(검색 속도가 빠름)\n",
    "- 해쉬는 키에 대해 데이터가 있는지(중복) 확인이 쉬움\n",
    "\n",
    "### 단점\n",
    "- 일반적으로 저장 공간이 좀 더 많이 필요하다.\n",
    "- 여러 키에 해당하는 주소가 동일할 경우 충돌을 해결하기 위한 별도 자료구조가 필요함\n",
    "\n",
    "### 주요 용도\n",
    "- 검색이 많이 필요한 경우\n",
    "- 저장, 삭제, 읽기가 빈번한 경우\n",
    "- 캐쉬 구현시(중복 확인이 쉽기 때문)"
   ]
  },
  {
   "cell_type": "markdown",
   "id": "30b88c0c",
   "metadata": {},
   "source": [
    "## 5. 프로그래밍 연습"
   ]
  },
  {
   "cell_type": "code",
   "execution_count": null,
   "id": "31f5d072",
   "metadata": {},
   "outputs": [],
   "source": []
  },
  {
   "cell_type": "code",
   "execution_count": null,
   "id": "9660f527",
   "metadata": {},
   "outputs": [],
   "source": []
  }
 ],
 "metadata": {
  "kernelspec": {
   "display_name": "Python 3 (ipykernel)",
   "language": "python",
   "name": "python3"
  },
  "language_info": {
   "codemirror_mode": {
    "name": "ipython",
    "version": 3
   },
   "file_extension": ".py",
   "mimetype": "text/x-python",
   "name": "python",
   "nbconvert_exporter": "python",
   "pygments_lexer": "ipython3",
   "version": "3.8.2"
  }
 },
 "nbformat": 4,
 "nbformat_minor": 5
}
