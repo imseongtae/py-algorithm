{
 "cells": [
  {
   "cell_type": "markdown",
   "id": "9018a1b2",
   "metadata": {},
   "source": [
    "# jupyter notebook shortcut"
   ]
  },
  {
   "cell_type": "markdown",
   "id": "68c214b1",
   "metadata": {},
   "source": [
    "## Command Mode\n",
    "- a(상단 셀 생성)\n",
    "- b(하단 셀 생성)\n",
    "- esc (Edit mode => Command mode)"
   ]
  },
  {
   "cell_type": "markdown",
   "id": "7ac76d84",
   "metadata": {},
   "source": [
    "## Edit Mode\n",
    "- command + enter (run selected cells)\n"
   ]
  },
  {
   "cell_type": "markdown",
   "id": "fb41d214",
   "metadata": {},
   "source": [
    "## Markdown shortcut"
   ]
  },
  {
   "cell_type": "markdown",
   "id": "02bc2ee8",
   "metadata": {},
   "source": []
  }
 ],
 "metadata": {
  "kernelspec": {
   "display_name": "Python 3 (ipykernel)",
   "language": "python",
   "name": "python3"
  },
  "language_info": {
   "codemirror_mode": {
    "name": "ipython",
    "version": 3
   },
   "file_extension": ".py",
   "mimetype": "text/x-python",
   "name": "python",
   "nbconvert_exporter": "python",
   "pygments_lexer": "ipython3",
   "version": "3.8.2"
  }
 },
 "nbformat": 4,
 "nbformat_minor": 5
}
