{
 "cells": [
  {
   "cell_type": "markdown",
   "id": "f6200583",
   "metadata": {},
   "source": [
    "# Python"
   ]
  },
  {
   "cell_type": "markdown",
   "id": "9093f082",
   "metadata": {},
   "source": [
    "## table of contents\n",
    "- [Variable](#Variable)\n",
    "- [Type](#Type)\n",
    "- [Operator](#Operator)\n",
    "- [Conditional statements](#Conditional-statements)\n",
    "- [String](#String)\n",
    "- [array](#array)\n",
    "---\n",
    "\n",
    "\n",
    "### 참고\n",
    "- [파이썬으로 배우는 알고리즘 트레이딩 (개정판-2쇄)](https://wikidocs.net/book/110)\n",
    "- [파이썬 코딩도장](https://dojang.io/mod/page/view.php?id=2192)"
   ]
  },
  {
   "cell_type": "markdown",
   "id": "ac3b4063",
   "metadata": {},
   "source": [
    "## Variable\n",
    "- 파이썬의 변수는 별도의 타입을 지정하지 않음\n",
    "- 타입은 선언에 의해 결정됨\n",
    "- 변수의 이름은 스페이스(공백 문자)를 포함하지 않음\n",
    "- 변수의 이름은 특수 문자를 제외한 알파벳 문자와 숫자, 그리고 언더스코어(_)만 포함할 수 있음\n",
    "- 변수의 이름은 숫자로 시작할 수 없음\n",
    "- 파이썬 내부에서 사용하는 키워드를 사용할 수 없음\n",
    "    - and, del, from, not, while, as, elif, or, class, global, with\n",
    "- 변수의 이름은 대문자와 소문자를 구분함"
   ]
  },
  {
   "cell_type": "markdown",
   "id": "2ac73623",
   "metadata": {},
   "source": [
    "### naming convention\n",
    "네이밍 규칙: PEP8 스타일 가이드를 따르며, 스네이크 표기법 사용. (언어를 사용할 때는 그 언어의 규칙을 따라야 한다.)\n",
    "- 상수는 모든 대문자를 사용\n",
    "- 변수의 이름은 다른 사람이 알기 쉽게 작성\n",
    "- 클래스 이름이나 상수 이외에는 대문자를 사용하지 않음\n",
    "- 클래스 이름 외에는 CamelCase를 사용하지 않는다.\n",
    "- 한 줄의 글자는 79자를 추천, 모니터 최대 길이를 고려한 사항\n",
    "- 하나의 import에는 모듈 하나만 한다.\n",
    "\n"
   ]
  },
  {
   "cell_type": "markdown",
   "id": "36f3d9f0",
   "metadata": {},
   "source": [
    "## Type\n",
    "- 수치형\n",
    "- 문자열\n",
    "    - 따옴표로 감싸 나열해 놓은 것이다.\n",
    "    - 인접한 문자열은 하나로 합쳐진다.\n",
    "    - 긴 문자열은 괄호로 감싸야 한다.\n",
    "- 문자열(확장열)\n",
    "    - 개행이나 탭 등 문자열 안에 담기 힘든 문자가 있다.\n",
    "    - 특수한 문자는 \\ 문자 뒤에 기호로 표기한다.\n",
    "    - 확장열을 사용하지 않은 경우 문자열 앞에 접두사 r을 붙인다.\n",
    "    - r을 맨앞에 붙여주면 확장문자열을 쓰지 않는다.\n",
    "- 긴 문자열: 따옴표 3개를 연속으로 사용하면 80자가 넘어가는 긴 문자열도 처리할 수 있다.\n",
    "- Bool: True, False => 파이썬은 Bool값이 대문자로 시작한다\n",
    "- 컬렉션: 여러개의 값을 모아서 저장하는 데이터 타입\n",
    "    - list, tuple"
   ]
  },
  {
   "cell_type": "markdown",
   "id": "81e2ec2e",
   "metadata": {},
   "source": [
    "## Operator\n",
    "- 산술 연산자\n",
    "- 고급 연산자\n",
    "    - ** (거듭제곱)\n",
    "    - // (정수 나누기)\n",
    "    - %  (나머지, 모듈연산자)\n",
    "- 복합 대입 연산자\n",
    "- 문자열 연산자\n",
    "    - 문자열에도 연산자를 사용할 수 있음\n",
    "- 정수와 문자열 연산\n",
    "    - 정수와 문자열은 함께 사용할 수 없으므로 타입을 맞춘 이후에 사용할 수 있다.\n",
    "- 실수의 변환\n",
    "- 연산자 우선순위와 결합순서\n",
    "- 논리연산자\n",
    "    - and: 두 값이 모두 True라야 True. 하나라도 False이면 False가 됨.\n",
    "    - or: 두 값 중 하나라도 True이면 True. 두 값이 모두 False라야 False가 됨.\n",
    "    - not: 논릿값을 뒤집음. 그래서 not True는 False가 되고, not False는 True가 됨."
   ]
  },
  {
   "cell_type": "code",
   "execution_count": 40,
   "id": "c23a69dc",
   "metadata": {},
   "outputs": [
    {
     "name": "stdout",
     "output_type": "stream",
     "text": [
      "2.5\n",
      "2\n",
      "1\n",
      "hamburger 1959\n",
      "cheeseburgercheeseburger=>32\n",
      "44.2\n",
      "44\n",
      "22\n",
      "23\n",
      "123000\n",
      "True\n",
      "False\n",
      "hamburger\n"
     ]
    }
   ],
   "source": [
    "# 고급 연산자\n",
    "print(5 / 2)\n",
    "print(5 // 2)\n",
    "print(5 % 2)\n",
    "\n",
    "# 복합 대입 연산자\n",
    "a = 0\n",
    "a -= 1 # good\n",
    "b =-1 # bad\n",
    "\n",
    "# 문자열 연산\n",
    "ham = 'hamburger'\n",
    "cheese = 'cheeseburger'\n",
    "print(ham + ' ' + str(1959))\n",
    "print(cheese * 2, end='=>')\n",
    "\n",
    "print(22 + int('10')) # 32\n",
    "print(22 + float('22.2')) # 42.2\n",
    "print(22 + int(float('22.2'))) # 42\n",
    "\n",
    "# 실수의 변환\n",
    "print(int(22.7)) # int로 변환하면 소수점 이하의 값을 버림\n",
    "\n",
    "# 반올림\n",
    "print(round(22.6)) # 라운드는 그냥 반올림을 해줌\n",
    "print(round(123456, -3)) # 두 번째 인자에 값을 넣으면, 일의 자리부터 한 자리씩 올라가며 0으로 만든다.\n",
    "\n",
    "# 논리 연산자\n",
    "print(True and True)\n",
    "print(True and False)\n",
    "\n",
    "\n",
    "# python의 삼항 연산자\n",
    "print(cheese if ham == 'burger' else ham)"
   ]
  },
  {
   "cell_type": "markdown",
   "id": "601e3408",
   "metadata": {},
   "source": []
  },
  {
   "cell_type": "markdown",
   "id": "91038622",
   "metadata": {},
   "source": [
    "## Conditional statements\n",
    "\n",
    "- if문\n",
    "- 비교 연산자\n",
    "- 논리연산자\n",
    "    - and, or, not\n",
    "    - 0은 거짓, 숫자 0이 아닌 값은 참이며, -1과 같은 마이너스값도 참\n",
    "    - 빈 문자열('')은 거짓, 나머지는 모두 참\n",
    "    - 문자열 비교시에 대소문자를 구분한다.\n",
    "    - 문자열 비교가 가능하다. a 보다 b가 더 큰 문자이고 사전의 뒤쪽에 나오는 문자열을 더 큰 값으로 평가한다. 문자 단위가 길더라도 첫번째 자리값만 비교한다.\n",
    "- 블록구조\n",
    "- else\n",
    "- elif\n",
    "- if문 중첩\n"
   ]
  },
  {
   "cell_type": "markdown",
   "id": "42303181",
   "metadata": {},
   "source": [
    "### if\n",
    "- 조건문의 참, 거짓을 판별하여 명령의 실행 여부를 결정하는 제어문\n",
    "- 순서도를 작성하기에 좋음. (무엇을 만들었는데, 어떠한 로직을 사용했고, 이를 이러한 식으로 구성을 했다고 설명하기에 좋음)\n",
    "- 들여쓰기에 따라서 블록의 수준이 결정되므로 들여쓰기 깊이가 같다면 여러명령을 실행시킬 수 있다."
   ]
  },
  {
   "cell_type": "code",
   "execution_count": 43,
   "id": "1145c606",
   "metadata": {},
   "outputs": [
    {
     "name": "stdout",
     "output_type": "stream",
     "text": [
      "a는 5보다 크거나 같다.\n",
      "a는 6이 아니다!\n",
      "a = 3, b = 5\n",
      "a=5 or b=5\n"
     ]
    }
   ],
   "source": [
    "# 조건문과 비교연산자를 활용한 예제\n",
    "a = 5\n",
    "if a >= 5:\n",
    "    print('a는 5보다 크거나 같다.')\n",
    "if a != 6:\n",
    "    print('a는 6이 아니다!')\n",
    "\n",
    "# 조건문과 논리연산자를 활용한 예제\n",
    "a = 3\n",
    "b = 5\n",
    "if a == 3 and b == 5: \n",
    "    print('a = 3, b = 5') # a=3,b=5 True\n",
    "if a == 5 or b == 5:\n",
    "    print('a=5 or b=5')"
   ]
  },
  {
   "cell_type": "markdown",
   "id": "52fe3f80",
   "metadata": {},
   "source": [
    "### else, elif 문\n",
    "`elif`문은 `if`, `else` 문을 한 단계 더 확장할 수 있다."
   ]
  },
  {
   "cell_type": "code",
   "execution_count": 49,
   "id": "c7f37e28",
   "metadata": {},
   "outputs": [
    {
     "name": "stdout",
     "output_type": "stream",
     "text": [
      "2000 ~ 5000 사이\n"
     ]
    }
   ],
   "source": [
    "price = 3000\n",
    "\n",
    "if price < 2000:\n",
    "    print('저렴한 가격')\n",
    "else:\n",
    "    if price > 10000:\n",
    "        print('비쌈')\n",
    "    elif price > 7000:\n",
    "        print('7000원보다 비쌈')\n",
    "    elif price > 5000:\n",
    "        print('5000원보다 비쌈')\n",
    "    else:\n",
    "        print('2000 ~ 5000 사이')"
   ]
  }
 ],
 "metadata": {
  "kernelspec": {
   "display_name": "Python 3 (ipykernel)",
   "language": "python",
   "name": "python3"
  },
  "language_info": {
   "codemirror_mode": {
    "name": "ipython",
    "version": 3
   },
   "file_extension": ".py",
   "mimetype": "text/x-python",
   "name": "python",
   "nbconvert_exporter": "python",
   "pygments_lexer": "ipython3",
   "version": "3.8.2"
  }
 },
 "nbformat": 4,
 "nbformat_minor": 5
}
